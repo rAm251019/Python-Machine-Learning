{
 "cells": [
  {
   "cell_type": "code",
   "execution_count": 1,
   "metadata": {},
   "outputs": [],
   "source": [
    "import pandas as pd\n",
    "import numpy as np\n",
    "import seaborn as sns\n",
    "import matplotlib.pyplot as plt\n",
    "from sklearn.preprocessing import StandardScaler\n",
    "from sklearn.ensemble import RandomForestClassifier\n",
    "from sklearn import svm\n",
    "from sklearn.neighbors import KNeighborsClassifier\n",
    "import xgboost as xgb\n",
    "from sklearn.model_selection import train_test_split"
   ]
  },
  {
   "cell_type": "code",
   "execution_count": 2,
   "metadata": {},
   "outputs": [],
   "source": [
    "train_df=pd.read_csv('D:\\\\ANALYTICS\\\\HACKATHONS\\\\JANATAHACK-Analytics Vidhya\\\\train_fNxu4vz.csv')"
   ]
  },
  {
   "cell_type": "code",
   "execution_count": 3,
   "metadata": {},
   "outputs": [],
   "source": [
    "test_df=pd.read_csv('D:\\\\ANALYTICS\\\\HACKATHONS\\\\JANATAHACK-Analytics Vidhya\\\\test_fjtUOL8.csv')"
   ]
  },
  {
   "cell_type": "code",
   "execution_count": 4,
   "metadata": {},
   "outputs": [
    {
     "data": {
      "text/html": [
       "<div>\n",
       "<style scoped>\n",
       "    .dataframe tbody tr th:only-of-type {\n",
       "        vertical-align: middle;\n",
       "    }\n",
       "\n",
       "    .dataframe tbody tr th {\n",
       "        vertical-align: top;\n",
       "    }\n",
       "\n",
       "    .dataframe thead th {\n",
       "        text-align: right;\n",
       "    }\n",
       "</style>\n",
       "<table border=\"1\" class=\"dataframe\">\n",
       "  <thead>\n",
       "    <tr style=\"text-align: right;\">\n",
       "      <th></th>\n",
       "      <th>Loan_ID</th>\n",
       "      <th>Loan_Amount_Requested</th>\n",
       "      <th>Length_Employed</th>\n",
       "      <th>Home_Owner</th>\n",
       "      <th>Annual_Income</th>\n",
       "      <th>Income_Verified</th>\n",
       "      <th>Purpose_Of_Loan</th>\n",
       "      <th>Debt_To_Income</th>\n",
       "      <th>Inquiries_Last_6Mo</th>\n",
       "      <th>Months_Since_Deliquency</th>\n",
       "      <th>Number_Open_Accounts</th>\n",
       "      <th>Total_Accounts</th>\n",
       "      <th>Gender</th>\n",
       "      <th>Interest_Rate</th>\n",
       "    </tr>\n",
       "  </thead>\n",
       "  <tbody>\n",
       "    <tr>\n",
       "      <th>0</th>\n",
       "      <td>10000001</td>\n",
       "      <td>7,000</td>\n",
       "      <td>&lt; 1 year</td>\n",
       "      <td>Rent</td>\n",
       "      <td>68000.0</td>\n",
       "      <td>not verified</td>\n",
       "      <td>car</td>\n",
       "      <td>18.37</td>\n",
       "      <td>0</td>\n",
       "      <td>NaN</td>\n",
       "      <td>9</td>\n",
       "      <td>14</td>\n",
       "      <td>Female</td>\n",
       "      <td>1</td>\n",
       "    </tr>\n",
       "    <tr>\n",
       "      <th>1</th>\n",
       "      <td>10000002</td>\n",
       "      <td>30,000</td>\n",
       "      <td>4 years</td>\n",
       "      <td>Mortgage</td>\n",
       "      <td>NaN</td>\n",
       "      <td>VERIFIED - income</td>\n",
       "      <td>debt_consolidation</td>\n",
       "      <td>14.93</td>\n",
       "      <td>0</td>\n",
       "      <td>17.0</td>\n",
       "      <td>12</td>\n",
       "      <td>24</td>\n",
       "      <td>Female</td>\n",
       "      <td>3</td>\n",
       "    </tr>\n",
       "    <tr>\n",
       "      <th>2</th>\n",
       "      <td>10000003</td>\n",
       "      <td>24,725</td>\n",
       "      <td>7 years</td>\n",
       "      <td>Mortgage</td>\n",
       "      <td>75566.4</td>\n",
       "      <td>VERIFIED - income source</td>\n",
       "      <td>debt_consolidation</td>\n",
       "      <td>15.88</td>\n",
       "      <td>0</td>\n",
       "      <td>NaN</td>\n",
       "      <td>12</td>\n",
       "      <td>16</td>\n",
       "      <td>Male</td>\n",
       "      <td>3</td>\n",
       "    </tr>\n",
       "    <tr>\n",
       "      <th>3</th>\n",
       "      <td>10000004</td>\n",
       "      <td>16,000</td>\n",
       "      <td>&lt; 1 year</td>\n",
       "      <td>NaN</td>\n",
       "      <td>56160.0</td>\n",
       "      <td>VERIFIED - income source</td>\n",
       "      <td>debt_consolidation</td>\n",
       "      <td>14.34</td>\n",
       "      <td>3</td>\n",
       "      <td>NaN</td>\n",
       "      <td>16</td>\n",
       "      <td>22</td>\n",
       "      <td>Male</td>\n",
       "      <td>3</td>\n",
       "    </tr>\n",
       "    <tr>\n",
       "      <th>4</th>\n",
       "      <td>10000005</td>\n",
       "      <td>17,000</td>\n",
       "      <td>8 years</td>\n",
       "      <td>Own</td>\n",
       "      <td>96000.0</td>\n",
       "      <td>VERIFIED - income source</td>\n",
       "      <td>debt_consolidation</td>\n",
       "      <td>22.17</td>\n",
       "      <td>1</td>\n",
       "      <td>NaN</td>\n",
       "      <td>19</td>\n",
       "      <td>30</td>\n",
       "      <td>Female</td>\n",
       "      <td>1</td>\n",
       "    </tr>\n",
       "  </tbody>\n",
       "</table>\n",
       "</div>"
      ],
      "text/plain": [
       "    Loan_ID Loan_Amount_Requested Length_Employed Home_Owner  Annual_Income  \\\n",
       "0  10000001                 7,000        < 1 year       Rent        68000.0   \n",
       "1  10000002                30,000         4 years   Mortgage            NaN   \n",
       "2  10000003                24,725         7 years   Mortgage        75566.4   \n",
       "3  10000004                16,000        < 1 year        NaN        56160.0   \n",
       "4  10000005                17,000         8 years        Own        96000.0   \n",
       "\n",
       "            Income_Verified     Purpose_Of_Loan  Debt_To_Income  \\\n",
       "0              not verified                 car           18.37   \n",
       "1         VERIFIED - income  debt_consolidation           14.93   \n",
       "2  VERIFIED - income source  debt_consolidation           15.88   \n",
       "3  VERIFIED - income source  debt_consolidation           14.34   \n",
       "4  VERIFIED - income source  debt_consolidation           22.17   \n",
       "\n",
       "   Inquiries_Last_6Mo  Months_Since_Deliquency  Number_Open_Accounts  \\\n",
       "0                   0                      NaN                     9   \n",
       "1                   0                     17.0                    12   \n",
       "2                   0                      NaN                    12   \n",
       "3                   3                      NaN                    16   \n",
       "4                   1                      NaN                    19   \n",
       "\n",
       "   Total_Accounts  Gender  Interest_Rate  \n",
       "0              14  Female              1  \n",
       "1              24  Female              3  \n",
       "2              16    Male              3  \n",
       "3              22    Male              3  \n",
       "4              30  Female              1  "
      ]
     },
     "execution_count": 4,
     "metadata": {},
     "output_type": "execute_result"
    }
   ],
   "source": [
    "train_df.head()"
   ]
  },
  {
   "cell_type": "code",
   "execution_count": 5,
   "metadata": {},
   "outputs": [
    {
     "data": {
      "text/html": [
       "<div>\n",
       "<style scoped>\n",
       "    .dataframe tbody tr th:only-of-type {\n",
       "        vertical-align: middle;\n",
       "    }\n",
       "\n",
       "    .dataframe tbody tr th {\n",
       "        vertical-align: top;\n",
       "    }\n",
       "\n",
       "    .dataframe thead th {\n",
       "        text-align: right;\n",
       "    }\n",
       "</style>\n",
       "<table border=\"1\" class=\"dataframe\">\n",
       "  <thead>\n",
       "    <tr style=\"text-align: right;\">\n",
       "      <th></th>\n",
       "      <th>Loan_ID</th>\n",
       "      <th>Loan_Amount_Requested</th>\n",
       "      <th>Length_Employed</th>\n",
       "      <th>Home_Owner</th>\n",
       "      <th>Annual_Income</th>\n",
       "      <th>Income_Verified</th>\n",
       "      <th>Purpose_Of_Loan</th>\n",
       "      <th>Debt_To_Income</th>\n",
       "      <th>Inquiries_Last_6Mo</th>\n",
       "      <th>Months_Since_Deliquency</th>\n",
       "      <th>Number_Open_Accounts</th>\n",
       "      <th>Total_Accounts</th>\n",
       "      <th>Gender</th>\n",
       "    </tr>\n",
       "  </thead>\n",
       "  <tbody>\n",
       "    <tr>\n",
       "      <th>0</th>\n",
       "      <td>10164310</td>\n",
       "      <td>27,500</td>\n",
       "      <td>10+ years</td>\n",
       "      <td>Mortgage</td>\n",
       "      <td>129000.0</td>\n",
       "      <td>VERIFIED - income</td>\n",
       "      <td>debt_consolidation</td>\n",
       "      <td>12.87</td>\n",
       "      <td>0</td>\n",
       "      <td>68.0</td>\n",
       "      <td>10</td>\n",
       "      <td>37</td>\n",
       "      <td>Male</td>\n",
       "    </tr>\n",
       "    <tr>\n",
       "      <th>1</th>\n",
       "      <td>10164311</td>\n",
       "      <td>26,000</td>\n",
       "      <td>10+ years</td>\n",
       "      <td>NaN</td>\n",
       "      <td>110000.0</td>\n",
       "      <td>not verified</td>\n",
       "      <td>credit_card</td>\n",
       "      <td>11.37</td>\n",
       "      <td>0</td>\n",
       "      <td>NaN</td>\n",
       "      <td>6</td>\n",
       "      <td>23</td>\n",
       "      <td>Male</td>\n",
       "    </tr>\n",
       "    <tr>\n",
       "      <th>2</th>\n",
       "      <td>10164312</td>\n",
       "      <td>6,075</td>\n",
       "      <td>&lt; 1 year</td>\n",
       "      <td>Rent</td>\n",
       "      <td>75000.0</td>\n",
       "      <td>VERIFIED - income</td>\n",
       "      <td>debt_consolidation</td>\n",
       "      <td>6.83</td>\n",
       "      <td>2</td>\n",
       "      <td>NaN</td>\n",
       "      <td>5</td>\n",
       "      <td>20</td>\n",
       "      <td>Male</td>\n",
       "    </tr>\n",
       "    <tr>\n",
       "      <th>3</th>\n",
       "      <td>10164313</td>\n",
       "      <td>12,000</td>\n",
       "      <td>10+ years</td>\n",
       "      <td>Mortgage</td>\n",
       "      <td>73000.0</td>\n",
       "      <td>VERIFIED - income source</td>\n",
       "      <td>debt_consolidation</td>\n",
       "      <td>7.76</td>\n",
       "      <td>0</td>\n",
       "      <td>NaN</td>\n",
       "      <td>6</td>\n",
       "      <td>8</td>\n",
       "      <td>Male</td>\n",
       "    </tr>\n",
       "    <tr>\n",
       "      <th>4</th>\n",
       "      <td>10164314</td>\n",
       "      <td>35,000</td>\n",
       "      <td>&lt; 1 year</td>\n",
       "      <td>Mortgage</td>\n",
       "      <td>156000.0</td>\n",
       "      <td>not verified</td>\n",
       "      <td>debt_consolidation</td>\n",
       "      <td>9.62</td>\n",
       "      <td>0</td>\n",
       "      <td>26.0</td>\n",
       "      <td>9</td>\n",
       "      <td>21</td>\n",
       "      <td>Male</td>\n",
       "    </tr>\n",
       "  </tbody>\n",
       "</table>\n",
       "</div>"
      ],
      "text/plain": [
       "    Loan_ID Loan_Amount_Requested Length_Employed Home_Owner  Annual_Income  \\\n",
       "0  10164310                27,500       10+ years   Mortgage       129000.0   \n",
       "1  10164311                26,000       10+ years        NaN       110000.0   \n",
       "2  10164312                 6,075        < 1 year       Rent        75000.0   \n",
       "3  10164313                12,000       10+ years   Mortgage        73000.0   \n",
       "4  10164314                35,000        < 1 year   Mortgage       156000.0   \n",
       "\n",
       "            Income_Verified     Purpose_Of_Loan  Debt_To_Income  \\\n",
       "0         VERIFIED - income  debt_consolidation           12.87   \n",
       "1              not verified         credit_card           11.37   \n",
       "2         VERIFIED - income  debt_consolidation            6.83   \n",
       "3  VERIFIED - income source  debt_consolidation            7.76   \n",
       "4              not verified  debt_consolidation            9.62   \n",
       "\n",
       "   Inquiries_Last_6Mo  Months_Since_Deliquency  Number_Open_Accounts  \\\n",
       "0                   0                     68.0                    10   \n",
       "1                   0                      NaN                     6   \n",
       "2                   2                      NaN                     5   \n",
       "3                   0                      NaN                     6   \n",
       "4                   0                     26.0                     9   \n",
       "\n",
       "   Total_Accounts Gender  \n",
       "0              37   Male  \n",
       "1              23   Male  \n",
       "2              20   Male  \n",
       "3               8   Male  \n",
       "4              21   Male  "
      ]
     },
     "execution_count": 5,
     "metadata": {},
     "output_type": "execute_result"
    }
   ],
   "source": [
    "test_df.head()"
   ]
  },
  {
   "cell_type": "code",
   "execution_count": 6,
   "metadata": {},
   "outputs": [
    {
     "name": "stdout",
     "output_type": "stream",
     "text": [
      "<class 'pandas.core.frame.DataFrame'>\n",
      "RangeIndex: 164309 entries, 0 to 164308\n",
      "Data columns (total 14 columns):\n",
      " #   Column                   Non-Null Count   Dtype  \n",
      "---  ------                   --------------   -----  \n",
      " 0   Loan_ID                  164309 non-null  int64  \n",
      " 1   Loan_Amount_Requested    164309 non-null  object \n",
      " 2   Length_Employed          156938 non-null  object \n",
      " 3   Home_Owner               138960 non-null  object \n",
      " 4   Annual_Income            139207 non-null  float64\n",
      " 5   Income_Verified          164309 non-null  object \n",
      " 6   Purpose_Of_Loan          164309 non-null  object \n",
      " 7   Debt_To_Income           164309 non-null  float64\n",
      " 8   Inquiries_Last_6Mo       164309 non-null  int64  \n",
      " 9   Months_Since_Deliquency  75930 non-null   float64\n",
      " 10  Number_Open_Accounts     164309 non-null  int64  \n",
      " 11  Total_Accounts           164309 non-null  int64  \n",
      " 12  Gender                   164309 non-null  object \n",
      " 13  Interest_Rate            164309 non-null  int64  \n",
      "dtypes: float64(3), int64(5), object(6)\n",
      "memory usage: 17.6+ MB\n"
     ]
    }
   ],
   "source": [
    "train_df.info()"
   ]
  },
  {
   "cell_type": "code",
   "execution_count": 7,
   "metadata": {},
   "outputs": [
    {
     "name": "stdout",
     "output_type": "stream",
     "text": [
      "<class 'pandas.core.frame.DataFrame'>\n",
      "RangeIndex: 109541 entries, 0 to 109540\n",
      "Data columns (total 13 columns):\n",
      " #   Column                   Non-Null Count   Dtype  \n",
      "---  ------                   --------------   -----  \n",
      " 0   Loan_ID                  109541 non-null  int64  \n",
      " 1   Loan_Amount_Requested    109541 non-null  object \n",
      " 2   Length_Employed          104605 non-null  object \n",
      " 3   Home_Owner               92830 non-null   object \n",
      " 4   Annual_Income            92643 non-null   float64\n",
      " 5   Income_Verified          109541 non-null  object \n",
      " 6   Purpose_Of_Loan          109541 non-null  object \n",
      " 7   Debt_To_Income           109541 non-null  float64\n",
      " 8   Inquiries_Last_6Mo       109541 non-null  int64  \n",
      " 9   Months_Since_Deliquency  50682 non-null   float64\n",
      " 10  Number_Open_Accounts     109541 non-null  int64  \n",
      " 11  Total_Accounts           109541 non-null  int64  \n",
      " 12  Gender                   109541 non-null  object \n",
      "dtypes: float64(3), int64(4), object(6)\n",
      "memory usage: 10.9+ MB\n"
     ]
    }
   ],
   "source": [
    "test_df.info()"
   ]
  },
  {
   "cell_type": "markdown",
   "metadata": {},
   "source": [
    "Length_Employed,Home_owner,Annual_income and Months_Since_Deliquency has null values.Months_Since_Deliquency has   \n",
    "more than 50% of null values in both train and test dataset."
   ]
  },
  {
   "cell_type": "code",
   "execution_count": 16,
   "metadata": {},
   "outputs": [
    {
     "name": "stdout",
     "output_type": "stream",
     "text": [
      "            Loan_ID  Annual_Income  Debt_To_Income  Inquiries_Last_6Mo  \\\n",
      "count  1.643090e+05   1.392070e+05   164309.000000       164309.000000   \n",
      "mean   1.008216e+07   7.333116e+04       17.207189            0.781698   \n",
      "std    4.743207e+04   6.037750e+04        7.845083            1.034747   \n",
      "min    1.000000e+07   4.000000e+03        0.000000            0.000000   \n",
      "25%    1.004108e+07   4.500000e+04       11.370000            0.000000   \n",
      "50%    1.008216e+07   6.300000e+04       16.840000            0.000000   \n",
      "75%    1.012323e+07   8.869750e+04       22.780000            1.000000   \n",
      "max    1.016431e+07   7.500000e+06       39.990000            8.000000   \n",
      "\n",
      "       Months_Since_Deliquency  Number_Open_Accounts  Total_Accounts  \\\n",
      "count             75930.000000         164309.000000   164309.000000   \n",
      "mean                 34.229356             11.193818       25.067665   \n",
      "std                  21.761180              4.991813       11.583067   \n",
      "min                   0.000000              0.000000        2.000000   \n",
      "25%                  16.000000              8.000000       17.000000   \n",
      "50%                  31.000000             10.000000       23.000000   \n",
      "75%                  50.000000             14.000000       32.000000   \n",
      "max                 180.000000             76.000000      156.000000   \n",
      "\n",
      "       Interest_Rate  \n",
      "count  164309.000000  \n",
      "mean        2.158951  \n",
      "std         0.738364  \n",
      "min         1.000000  \n",
      "25%         2.000000  \n",
      "50%         2.000000  \n",
      "75%         3.000000  \n",
      "max         3.000000  \n",
      "****************************************\n",
      "            Loan_ID  Annual_Income  Debt_To_Income  Inquiries_Last_6Mo  \\\n",
      "count  1.095410e+05   9.264300e+04   109541.000000       109541.000000   \n",
      "mean   1.021908e+07   7.348541e+04       17.228969            0.788810   \n",
      "std    3.162191e+04   5.563845e+04        7.847310            1.039903   \n",
      "min    1.016431e+07   3.000000e+03        0.000000            0.000000   \n",
      "25%    1.019170e+07   4.500000e+04       11.350000            0.000000   \n",
      "50%    1.021908e+07   6.300000e+04       16.860000            0.000000   \n",
      "75%    1.024646e+07   8.900000e+04       22.780000            1.000000   \n",
      "max    1.027385e+07   7.446395e+06       39.990000            8.000000   \n",
      "\n",
      "       Months_Since_Deliquency  Number_Open_Accounts  Total_Accounts  \n",
      "count             50682.000000         109541.000000   109541.000000  \n",
      "mean                 33.914684             11.174337       25.068440  \n",
      "std                  21.732856              4.946314       11.599639  \n",
      "min                   0.000000              0.000000        2.000000  \n",
      "25%                  15.000000              8.000000       17.000000  \n",
      "50%                  31.000000             10.000000       24.000000  \n",
      "75%                  49.000000             14.000000       32.000000  \n",
      "max                 149.000000             84.000000      124.000000  \n"
     ]
    }
   ],
   "source": [
    "print(train_df.describe())\n",
    "print('*'*40)\n",
    "print(test_df.describe())"
   ]
  },
  {
   "cell_type": "code",
   "execution_count": 17,
   "metadata": {},
   "outputs": [
    {
     "name": "stdout",
     "output_type": "stream",
     "text": [
      "       Loan_Amount_Requested Length_Employed Home_Owner    Income_Verified  \\\n",
      "count                 164309          156938     138960             164309   \n",
      "unique                  1290              11          5                  3   \n",
      "top                   10,000       10+ years   Mortgage  VERIFIED - income   \n",
      "freq                   11622           52915      70345              59421   \n",
      "\n",
      "           Purpose_Of_Loan  Gender  \n",
      "count               164309  164309  \n",
      "unique                  14       2  \n",
      "top     debt_consolidation    Male  \n",
      "freq                 97101  117176  \n",
      "****************************************\n",
      "       Loan_Amount_Requested Length_Employed Home_Owner    Income_Verified  \\\n",
      "count                 109541          104605      92830             109541   \n",
      "unique                  1246              11          5                  3   \n",
      "top                   10,000       10+ years   Mortgage  VERIFIED - income   \n",
      "freq                    7820           35413      46925              39655   \n",
      "\n",
      "           Purpose_Of_Loan  Gender  \n",
      "count               109541  109541  \n",
      "unique                  14       2  \n",
      "top     debt_consolidation    Male  \n",
      "freq                 64302   77817  \n"
     ]
    }
   ],
   "source": [
    "print(train_df.describe(include=['O']))\n",
    "print('*'*40)\n",
    "print(test_df.describe(include=['O']))"
   ]
  },
  {
   "cell_type": "code",
   "execution_count": 20,
   "metadata": {},
   "outputs": [
    {
     "data": {
      "text/html": [
       "<div>\n",
       "<style scoped>\n",
       "    .dataframe tbody tr th:only-of-type {\n",
       "        vertical-align: middle;\n",
       "    }\n",
       "\n",
       "    .dataframe tbody tr th {\n",
       "        vertical-align: top;\n",
       "    }\n",
       "\n",
       "    .dataframe thead th {\n",
       "        text-align: right;\n",
       "    }\n",
       "</style>\n",
       "<table border=\"1\" class=\"dataframe\">\n",
       "  <thead>\n",
       "    <tr style=\"text-align: right;\">\n",
       "      <th></th>\n",
       "      <th>Length_Employed</th>\n",
       "      <th>Interest_Rate</th>\n",
       "      <th>Count</th>\n",
       "    </tr>\n",
       "  </thead>\n",
       "  <tbody>\n",
       "    <tr>\n",
       "      <th>0</th>\n",
       "      <td>1 year</td>\n",
       "      <td>1</td>\n",
       "      <td>2265</td>\n",
       "    </tr>\n",
       "    <tr>\n",
       "      <th>1</th>\n",
       "      <td>1 year</td>\n",
       "      <td>2</td>\n",
       "      <td>4600</td>\n",
       "    </tr>\n",
       "    <tr>\n",
       "      <th>2</th>\n",
       "      <td>1 year</td>\n",
       "      <td>3</td>\n",
       "      <td>3557</td>\n",
       "    </tr>\n",
       "    <tr>\n",
       "      <th>3</th>\n",
       "      <td>10+ years</td>\n",
       "      <td>1</td>\n",
       "      <td>10596</td>\n",
       "    </tr>\n",
       "    <tr>\n",
       "      <th>4</th>\n",
       "      <td>10+ years</td>\n",
       "      <td>2</td>\n",
       "      <td>22329</td>\n",
       "    </tr>\n",
       "    <tr>\n",
       "      <th>5</th>\n",
       "      <td>10+ years</td>\n",
       "      <td>3</td>\n",
       "      <td>19990</td>\n",
       "    </tr>\n",
       "    <tr>\n",
       "      <th>6</th>\n",
       "      <td>2 years</td>\n",
       "      <td>1</td>\n",
       "      <td>3103</td>\n",
       "    </tr>\n",
       "    <tr>\n",
       "      <th>7</th>\n",
       "      <td>2 years</td>\n",
       "      <td>2</td>\n",
       "      <td>6424</td>\n",
       "    </tr>\n",
       "    <tr>\n",
       "      <th>8</th>\n",
       "      <td>2 years</td>\n",
       "      <td>3</td>\n",
       "      <td>5093</td>\n",
       "    </tr>\n",
       "    <tr>\n",
       "      <th>9</th>\n",
       "      <td>3 years</td>\n",
       "      <td>1</td>\n",
       "      <td>2843</td>\n",
       "    </tr>\n",
       "    <tr>\n",
       "      <th>10</th>\n",
       "      <td>3 years</td>\n",
       "      <td>2</td>\n",
       "      <td>5619</td>\n",
       "    </tr>\n",
       "    <tr>\n",
       "      <th>11</th>\n",
       "      <td>3 years</td>\n",
       "      <td>3</td>\n",
       "      <td>4512</td>\n",
       "    </tr>\n",
       "    <tr>\n",
       "      <th>12</th>\n",
       "      <td>4 years</td>\n",
       "      <td>1</td>\n",
       "      <td>2059</td>\n",
       "    </tr>\n",
       "    <tr>\n",
       "      <th>13</th>\n",
       "      <td>4 years</td>\n",
       "      <td>2</td>\n",
       "      <td>4280</td>\n",
       "    </tr>\n",
       "    <tr>\n",
       "      <th>14</th>\n",
       "      <td>4 years</td>\n",
       "      <td>3</td>\n",
       "      <td>3445</td>\n",
       "    </tr>\n",
       "    <tr>\n",
       "      <th>15</th>\n",
       "      <td>5 years</td>\n",
       "      <td>1</td>\n",
       "      <td>2248</td>\n",
       "    </tr>\n",
       "    <tr>\n",
       "      <th>16</th>\n",
       "      <td>5 years</td>\n",
       "      <td>2</td>\n",
       "      <td>4546</td>\n",
       "    </tr>\n",
       "    <tr>\n",
       "      <th>17</th>\n",
       "      <td>5 years</td>\n",
       "      <td>3</td>\n",
       "      <td>4020</td>\n",
       "    </tr>\n",
       "    <tr>\n",
       "      <th>18</th>\n",
       "      <td>6 years</td>\n",
       "      <td>1</td>\n",
       "      <td>1829</td>\n",
       "    </tr>\n",
       "    <tr>\n",
       "      <th>19</th>\n",
       "      <td>6 years</td>\n",
       "      <td>2</td>\n",
       "      <td>3868</td>\n",
       "    </tr>\n",
       "    <tr>\n",
       "      <th>20</th>\n",
       "      <td>6 years</td>\n",
       "      <td>3</td>\n",
       "      <td>3397</td>\n",
       "    </tr>\n",
       "    <tr>\n",
       "      <th>21</th>\n",
       "      <td>7 years</td>\n",
       "      <td>1</td>\n",
       "      <td>1770</td>\n",
       "    </tr>\n",
       "    <tr>\n",
       "      <th>22</th>\n",
       "      <td>7 years</td>\n",
       "      <td>2</td>\n",
       "      <td>3985</td>\n",
       "    </tr>\n",
       "    <tr>\n",
       "      <th>23</th>\n",
       "      <td>7 years</td>\n",
       "      <td>3</td>\n",
       "      <td>3553</td>\n",
       "    </tr>\n",
       "    <tr>\n",
       "      <th>24</th>\n",
       "      <td>8 years</td>\n",
       "      <td>1</td>\n",
       "      <td>1597</td>\n",
       "    </tr>\n",
       "    <tr>\n",
       "      <th>25</th>\n",
       "      <td>8 years</td>\n",
       "      <td>2</td>\n",
       "      <td>3468</td>\n",
       "    </tr>\n",
       "    <tr>\n",
       "      <th>26</th>\n",
       "      <td>8 years</td>\n",
       "      <td>3</td>\n",
       "      <td>2852</td>\n",
       "    </tr>\n",
       "    <tr>\n",
       "      <th>27</th>\n",
       "      <td>9 years</td>\n",
       "      <td>1</td>\n",
       "      <td>1222</td>\n",
       "    </tr>\n",
       "    <tr>\n",
       "      <th>28</th>\n",
       "      <td>9 years</td>\n",
       "      <td>2</td>\n",
       "      <td>2676</td>\n",
       "    </tr>\n",
       "    <tr>\n",
       "      <th>29</th>\n",
       "      <td>9 years</td>\n",
       "      <td>3</td>\n",
       "      <td>2387</td>\n",
       "    </tr>\n",
       "    <tr>\n",
       "      <th>30</th>\n",
       "      <td>&lt; 1 year</td>\n",
       "      <td>1</td>\n",
       "      <td>2865</td>\n",
       "    </tr>\n",
       "    <tr>\n",
       "      <th>31</th>\n",
       "      <td>&lt; 1 year</td>\n",
       "      <td>2</td>\n",
       "      <td>5613</td>\n",
       "    </tr>\n",
       "    <tr>\n",
       "      <th>32</th>\n",
       "      <td>&lt; 1 year</td>\n",
       "      <td>3</td>\n",
       "      <td>4327</td>\n",
       "    </tr>\n",
       "    <tr>\n",
       "      <th>33</th>\n",
       "      <td>nan</td>\n",
       "      <td>1</td>\n",
       "      <td>1409</td>\n",
       "    </tr>\n",
       "    <tr>\n",
       "      <th>34</th>\n",
       "      <td>nan</td>\n",
       "      <td>2</td>\n",
       "      <td>3172</td>\n",
       "    </tr>\n",
       "    <tr>\n",
       "      <th>35</th>\n",
       "      <td>nan</td>\n",
       "      <td>3</td>\n",
       "      <td>2790</td>\n",
       "    </tr>\n",
       "  </tbody>\n",
       "</table>\n",
       "</div>"
      ],
      "text/plain": [
       "   Length_Employed  Interest_Rate  Count\n",
       "0           1 year              1   2265\n",
       "1           1 year              2   4600\n",
       "2           1 year              3   3557\n",
       "3        10+ years              1  10596\n",
       "4        10+ years              2  22329\n",
       "5        10+ years              3  19990\n",
       "6          2 years              1   3103\n",
       "7          2 years              2   6424\n",
       "8          2 years              3   5093\n",
       "9          3 years              1   2843\n",
       "10         3 years              2   5619\n",
       "11         3 years              3   4512\n",
       "12         4 years              1   2059\n",
       "13         4 years              2   4280\n",
       "14         4 years              3   3445\n",
       "15         5 years              1   2248\n",
       "16         5 years              2   4546\n",
       "17         5 years              3   4020\n",
       "18         6 years              1   1829\n",
       "19         6 years              2   3868\n",
       "20         6 years              3   3397\n",
       "21         7 years              1   1770\n",
       "22         7 years              2   3985\n",
       "23         7 years              3   3553\n",
       "24         8 years              1   1597\n",
       "25         8 years              2   3468\n",
       "26         8 years              3   2852\n",
       "27         9 years              1   1222\n",
       "28         9 years              2   2676\n",
       "29         9 years              3   2387\n",
       "30        < 1 year              1   2865\n",
       "31        < 1 year              2   5613\n",
       "32        < 1 year              3   4327\n",
       "33             nan              1   1409\n",
       "34             nan              2   3172\n",
       "35             nan              3   2790"
      ]
     },
     "execution_count": 20,
     "metadata": {},
     "output_type": "execute_result"
    }
   ],
   "source": [
    "train_df.assign(Length_Employed=train_df.Length_Employed.astype('str')).groupby(['Length_Employed','Interest_Rate']).size().reset_index(name='Count')"
   ]
  },
  {
   "cell_type": "code",
   "execution_count": 51,
   "metadata": {},
   "outputs": [
    {
     "data": {
      "text/html": [
       "<div>\n",
       "<style scoped>\n",
       "    .dataframe tbody tr th:only-of-type {\n",
       "        vertical-align: middle;\n",
       "    }\n",
       "\n",
       "    .dataframe tbody tr th {\n",
       "        vertical-align: top;\n",
       "    }\n",
       "\n",
       "    .dataframe thead th {\n",
       "        text-align: right;\n",
       "    }\n",
       "</style>\n",
       "<table border=\"1\" class=\"dataframe\">\n",
       "  <thead>\n",
       "    <tr style=\"text-align: right;\">\n",
       "      <th></th>\n",
       "      <th>Length_Employed</th>\n",
       "      <th>Count</th>\n",
       "    </tr>\n",
       "  </thead>\n",
       "  <tbody>\n",
       "    <tr>\n",
       "      <th>0</th>\n",
       "      <td>1 year</td>\n",
       "      <td>6914</td>\n",
       "    </tr>\n",
       "    <tr>\n",
       "      <th>1</th>\n",
       "      <td>10+ years</td>\n",
       "      <td>35413</td>\n",
       "    </tr>\n",
       "    <tr>\n",
       "      <th>2</th>\n",
       "      <td>2 years</td>\n",
       "      <td>9800</td>\n",
       "    </tr>\n",
       "    <tr>\n",
       "      <th>3</th>\n",
       "      <td>3 years</td>\n",
       "      <td>8504</td>\n",
       "    </tr>\n",
       "    <tr>\n",
       "      <th>4</th>\n",
       "      <td>4 years</td>\n",
       "      <td>6609</td>\n",
       "    </tr>\n",
       "    <tr>\n",
       "      <th>5</th>\n",
       "      <td>5 years</td>\n",
       "      <td>7228</td>\n",
       "    </tr>\n",
       "    <tr>\n",
       "      <th>6</th>\n",
       "      <td>6 years</td>\n",
       "      <td>6257</td>\n",
       "    </tr>\n",
       "    <tr>\n",
       "      <th>7</th>\n",
       "      <td>7 years</td>\n",
       "      <td>6136</td>\n",
       "    </tr>\n",
       "    <tr>\n",
       "      <th>8</th>\n",
       "      <td>8 years</td>\n",
       "      <td>5198</td>\n",
       "    </tr>\n",
       "    <tr>\n",
       "      <th>9</th>\n",
       "      <td>9 years</td>\n",
       "      <td>4218</td>\n",
       "    </tr>\n",
       "    <tr>\n",
       "      <th>10</th>\n",
       "      <td>&lt; 1 year</td>\n",
       "      <td>8328</td>\n",
       "    </tr>\n",
       "    <tr>\n",
       "      <th>11</th>\n",
       "      <td>nan</td>\n",
       "      <td>4936</td>\n",
       "    </tr>\n",
       "  </tbody>\n",
       "</table>\n",
       "</div>"
      ],
      "text/plain": [
       "   Length_Employed  Count\n",
       "0           1 year   6914\n",
       "1        10+ years  35413\n",
       "2          2 years   9800\n",
       "3          3 years   8504\n",
       "4          4 years   6609\n",
       "5          5 years   7228\n",
       "6          6 years   6257\n",
       "7          7 years   6136\n",
       "8          8 years   5198\n",
       "9          9 years   4218\n",
       "10        < 1 year   8328\n",
       "11             nan   4936"
      ]
     },
     "execution_count": 51,
     "metadata": {},
     "output_type": "execute_result"
    }
   ],
   "source": [
    "test_df.assign(Length_Employed=test_df.Length_Employed.astype('str')).groupby(['Length_Employed']).size().reset_index(name='Count')"
   ]
  },
  {
   "cell_type": "code",
   "execution_count": 13,
   "metadata": {},
   "outputs": [
    {
     "data": {
      "text/plain": [
       "10+ years    52915\n",
       "2 years      14620\n",
       "3 years      12974\n",
       "< 1 year     12805\n",
       "5 years      10814\n",
       "1 year       10422\n",
       "4 years       9784\n",
       "7 years       9308\n",
       "6 years       9094\n",
       "8 years       7917\n",
       "9 years       6285\n",
       "Name: Length_Employed, dtype: int64"
      ]
     },
     "execution_count": 13,
     "metadata": {},
     "output_type": "execute_result"
    }
   ],
   "source": [
    "train_df['Length_Employed'].value_counts()"
   ]
  },
  {
   "cell_type": "code",
   "execution_count": 14,
   "metadata": {},
   "outputs": [
    {
     "data": {
      "text/plain": [
       "7371"
      ]
     },
     "execution_count": 14,
     "metadata": {},
     "output_type": "execute_result"
    }
   ],
   "source": [
    "train_df['Length_Employed'].isnull().sum()"
   ]
  },
  {
   "cell_type": "code",
   "execution_count": 52,
   "metadata": {},
   "outputs": [
    {
     "data": {
      "text/html": [
       "<div>\n",
       "<style scoped>\n",
       "    .dataframe tbody tr th:only-of-type {\n",
       "        vertical-align: middle;\n",
       "    }\n",
       "\n",
       "    .dataframe tbody tr th {\n",
       "        vertical-align: top;\n",
       "    }\n",
       "\n",
       "    .dataframe thead th {\n",
       "        text-align: right;\n",
       "    }\n",
       "</style>\n",
       "<table border=\"1\" class=\"dataframe\">\n",
       "  <thead>\n",
       "    <tr style=\"text-align: right;\">\n",
       "      <th></th>\n",
       "      <th>Home_Owner</th>\n",
       "      <th>Count</th>\n",
       "    </tr>\n",
       "  </thead>\n",
       "  <tbody>\n",
       "    <tr>\n",
       "      <th>0</th>\n",
       "      <td>Mortgage</td>\n",
       "      <td>70345</td>\n",
       "    </tr>\n",
       "    <tr>\n",
       "      <th>1</th>\n",
       "      <td>None</td>\n",
       "      <td>10</td>\n",
       "    </tr>\n",
       "    <tr>\n",
       "      <th>2</th>\n",
       "      <td>Other</td>\n",
       "      <td>49</td>\n",
       "    </tr>\n",
       "    <tr>\n",
       "      <th>3</th>\n",
       "      <td>Own</td>\n",
       "      <td>12525</td>\n",
       "    </tr>\n",
       "    <tr>\n",
       "      <th>4</th>\n",
       "      <td>Rent</td>\n",
       "      <td>56031</td>\n",
       "    </tr>\n",
       "    <tr>\n",
       "      <th>5</th>\n",
       "      <td>nan</td>\n",
       "      <td>25349</td>\n",
       "    </tr>\n",
       "  </tbody>\n",
       "</table>\n",
       "</div>"
      ],
      "text/plain": [
       "  Home_Owner  Count\n",
       "0   Mortgage  70345\n",
       "1       None     10\n",
       "2      Other     49\n",
       "3        Own  12525\n",
       "4       Rent  56031\n",
       "5        nan  25349"
      ]
     },
     "execution_count": 52,
     "metadata": {},
     "output_type": "execute_result"
    }
   ],
   "source": [
    "train_df.assign(Home_Owner=train_df.Home_Owner.astype('str')).groupby(['Home_Owner']).size().reset_index(name='Count')"
   ]
  },
  {
   "cell_type": "code",
   "execution_count": 50,
   "metadata": {},
   "outputs": [
    {
     "data": {
      "text/html": [
       "<div>\n",
       "<style scoped>\n",
       "    .dataframe tbody tr th:only-of-type {\n",
       "        vertical-align: middle;\n",
       "    }\n",
       "\n",
       "    .dataframe tbody tr th {\n",
       "        vertical-align: top;\n",
       "    }\n",
       "\n",
       "    .dataframe thead th {\n",
       "        text-align: right;\n",
       "    }\n",
       "</style>\n",
       "<table border=\"1\" class=\"dataframe\">\n",
       "  <thead>\n",
       "    <tr style=\"text-align: right;\">\n",
       "      <th></th>\n",
       "      <th>Home_Owner</th>\n",
       "      <th>Count</th>\n",
       "    </tr>\n",
       "  </thead>\n",
       "  <tbody>\n",
       "    <tr>\n",
       "      <th>0</th>\n",
       "      <td>Mortgage</td>\n",
       "      <td>46925</td>\n",
       "    </tr>\n",
       "    <tr>\n",
       "      <th>1</th>\n",
       "      <td>None</td>\n",
       "      <td>10</td>\n",
       "    </tr>\n",
       "    <tr>\n",
       "      <th>2</th>\n",
       "      <td>Other</td>\n",
       "      <td>30</td>\n",
       "    </tr>\n",
       "    <tr>\n",
       "      <th>3</th>\n",
       "      <td>Own</td>\n",
       "      <td>8354</td>\n",
       "    </tr>\n",
       "    <tr>\n",
       "      <th>4</th>\n",
       "      <td>Rent</td>\n",
       "      <td>37511</td>\n",
       "    </tr>\n",
       "    <tr>\n",
       "      <th>5</th>\n",
       "      <td>nan</td>\n",
       "      <td>16711</td>\n",
       "    </tr>\n",
       "  </tbody>\n",
       "</table>\n",
       "</div>"
      ],
      "text/plain": [
       "  Home_Owner  Count\n",
       "0   Mortgage  46925\n",
       "1       None     10\n",
       "2      Other     30\n",
       "3        Own   8354\n",
       "4       Rent  37511\n",
       "5        nan  16711"
      ]
     },
     "execution_count": 50,
     "metadata": {},
     "output_type": "execute_result"
    }
   ],
   "source": [
    "test_df.assign(Home_Owner=test_df.Home_Owner.astype('str')).groupby(['Home_Owner']).size().reset_index(name='Count')"
   ]
  },
  {
   "cell_type": "code",
   "execution_count": 27,
   "metadata": {},
   "outputs": [
    {
     "data": {
      "text/html": [
       "<div>\n",
       "<style scoped>\n",
       "    .dataframe tbody tr th:only-of-type {\n",
       "        vertical-align: middle;\n",
       "    }\n",
       "\n",
       "    .dataframe tbody tr th {\n",
       "        vertical-align: top;\n",
       "    }\n",
       "\n",
       "    .dataframe thead th {\n",
       "        text-align: right;\n",
       "    }\n",
       "</style>\n",
       "<table border=\"1\" class=\"dataframe\">\n",
       "  <thead>\n",
       "    <tr style=\"text-align: right;\">\n",
       "      <th></th>\n",
       "      <th>Months_Since_Deliquency</th>\n",
       "      <th>Annual_Income</th>\n",
       "    </tr>\n",
       "  </thead>\n",
       "  <tbody>\n",
       "    <tr>\n",
       "      <th>0</th>\n",
       "      <td>NaN</td>\n",
       "      <td>68000.0</td>\n",
       "    </tr>\n",
       "    <tr>\n",
       "      <th>2</th>\n",
       "      <td>NaN</td>\n",
       "      <td>75566.4</td>\n",
       "    </tr>\n",
       "    <tr>\n",
       "      <th>3</th>\n",
       "      <td>NaN</td>\n",
       "      <td>56160.0</td>\n",
       "    </tr>\n",
       "    <tr>\n",
       "      <th>4</th>\n",
       "      <td>NaN</td>\n",
       "      <td>96000.0</td>\n",
       "    </tr>\n",
       "    <tr>\n",
       "      <th>5</th>\n",
       "      <td>NaN</td>\n",
       "      <td>30000.0</td>\n",
       "    </tr>\n",
       "  </tbody>\n",
       "</table>\n",
       "</div>"
      ],
      "text/plain": [
       "   Months_Since_Deliquency  Annual_Income\n",
       "0                      NaN        68000.0\n",
       "2                      NaN        75566.4\n",
       "3                      NaN        56160.0\n",
       "4                      NaN        96000.0\n",
       "5                      NaN        30000.0"
      ]
     },
     "execution_count": 27,
     "metadata": {},
     "output_type": "execute_result"
    }
   ],
   "source": [
    "train_df.loc[train_df['Annual_Income']<5000,['Months_Since_Deliquency','Annual_Income']].head()"
   ]
  },
  {
   "cell_type": "code",
   "execution_count": 8,
   "metadata": {},
   "outputs": [],
   "source": [
    "#train_bkup=train_df.copy()\n",
    "#test_bkup=test_df.copy()\n",
    "#train_df=train_bkup\n",
    "#test_df=test_bkup"
   ]
  },
  {
   "cell_type": "code",
   "execution_count": 4,
   "metadata": {},
   "outputs": [],
   "source": [
    "#Drop Months_Since_Deliquency column from test and train dataset\n",
    "train_df.drop('Months_Since_Deliquency',axis=1,inplace=True)\n",
    "test_df.drop('Months_Since_Deliquency',axis=1,inplace=True)"
   ]
  },
  {
   "cell_type": "markdown",
   "metadata": {},
   "source": [
    "</br>"
   ]
  },
  {
   "cell_type": "markdown",
   "metadata": {},
   "source": [
    "Combining 'None' and NULL into ''Other' for column 'Home Owner'"
   ]
  },
  {
   "cell_type": "code",
   "execution_count": 5,
   "metadata": {},
   "outputs": [],
   "source": [
    "train_df.loc[(train_df['Home_Owner']=='None') | (train_df['Home_Owner'].isnull()),'Home_Owner']='Other'"
   ]
  },
  {
   "cell_type": "code",
   "execution_count": 57,
   "metadata": {},
   "outputs": [
    {
     "data": {
      "text/html": [
       "<div>\n",
       "<style scoped>\n",
       "    .dataframe tbody tr th:only-of-type {\n",
       "        vertical-align: middle;\n",
       "    }\n",
       "\n",
       "    .dataframe tbody tr th {\n",
       "        vertical-align: top;\n",
       "    }\n",
       "\n",
       "    .dataframe thead th {\n",
       "        text-align: right;\n",
       "    }\n",
       "</style>\n",
       "<table border=\"1\" class=\"dataframe\">\n",
       "  <thead>\n",
       "    <tr style=\"text-align: right;\">\n",
       "      <th></th>\n",
       "      <th>Home_Owner</th>\n",
       "      <th>Count</th>\n",
       "    </tr>\n",
       "  </thead>\n",
       "  <tbody>\n",
       "    <tr>\n",
       "      <th>0</th>\n",
       "      <td>Mortgage</td>\n",
       "      <td>70345</td>\n",
       "    </tr>\n",
       "    <tr>\n",
       "      <th>1</th>\n",
       "      <td>Other</td>\n",
       "      <td>25408</td>\n",
       "    </tr>\n",
       "    <tr>\n",
       "      <th>2</th>\n",
       "      <td>Own</td>\n",
       "      <td>12525</td>\n",
       "    </tr>\n",
       "    <tr>\n",
       "      <th>3</th>\n",
       "      <td>Rent</td>\n",
       "      <td>56031</td>\n",
       "    </tr>\n",
       "  </tbody>\n",
       "</table>\n",
       "</div>"
      ],
      "text/plain": [
       "  Home_Owner  Count\n",
       "0   Mortgage  70345\n",
       "1      Other  25408\n",
       "2        Own  12525\n",
       "3       Rent  56031"
      ]
     },
     "execution_count": 57,
     "metadata": {},
     "output_type": "execute_result"
    }
   ],
   "source": [
    "train_df.assign(Home_Owner=train_df.Home_Owner.astype('str')).groupby(['Home_Owner']).size().reset_index(name='Count')"
   ]
  },
  {
   "cell_type": "code",
   "execution_count": 6,
   "metadata": {},
   "outputs": [],
   "source": [
    "test_df.loc[(test_df['Home_Owner']=='None') | (test_df['Home_Owner'].isnull()),'Home_Owner']='Other'"
   ]
  },
  {
   "cell_type": "code",
   "execution_count": 59,
   "metadata": {},
   "outputs": [
    {
     "data": {
      "text/html": [
       "<div>\n",
       "<style scoped>\n",
       "    .dataframe tbody tr th:only-of-type {\n",
       "        vertical-align: middle;\n",
       "    }\n",
       "\n",
       "    .dataframe tbody tr th {\n",
       "        vertical-align: top;\n",
       "    }\n",
       "\n",
       "    .dataframe thead th {\n",
       "        text-align: right;\n",
       "    }\n",
       "</style>\n",
       "<table border=\"1\" class=\"dataframe\">\n",
       "  <thead>\n",
       "    <tr style=\"text-align: right;\">\n",
       "      <th></th>\n",
       "      <th>Home_Owner</th>\n",
       "      <th>Count</th>\n",
       "    </tr>\n",
       "  </thead>\n",
       "  <tbody>\n",
       "    <tr>\n",
       "      <th>0</th>\n",
       "      <td>Mortgage</td>\n",
       "      <td>46925</td>\n",
       "    </tr>\n",
       "    <tr>\n",
       "      <th>1</th>\n",
       "      <td>Other</td>\n",
       "      <td>16751</td>\n",
       "    </tr>\n",
       "    <tr>\n",
       "      <th>2</th>\n",
       "      <td>Own</td>\n",
       "      <td>8354</td>\n",
       "    </tr>\n",
       "    <tr>\n",
       "      <th>3</th>\n",
       "      <td>Rent</td>\n",
       "      <td>37511</td>\n",
       "    </tr>\n",
       "  </tbody>\n",
       "</table>\n",
       "</div>"
      ],
      "text/plain": [
       "  Home_Owner  Count\n",
       "0   Mortgage  46925\n",
       "1      Other  16751\n",
       "2        Own   8354\n",
       "3       Rent  37511"
      ]
     },
     "execution_count": 59,
     "metadata": {},
     "output_type": "execute_result"
    }
   ],
   "source": [
    "test_df.assign(Home_Owner=test_df.Home_Owner.astype('str')).groupby(['Home_Owner']).size().reset_index(name='Count')"
   ]
  },
  {
   "cell_type": "markdown",
   "metadata": {},
   "source": [
    "</br>\n",
    "Taking all NULL values in Length_Employed as 0 years"
   ]
  },
  {
   "cell_type": "code",
   "execution_count": 7,
   "metadata": {},
   "outputs": [],
   "source": [
    "test_df.loc[test_df['Length_Employed'].isnull(),'Length_Employed']='0 Years'\n",
    "train_df.loc[train_df['Length_Employed'].isnull(),'Length_Employed']='0 Years'"
   ]
  },
  {
   "cell_type": "code",
   "execution_count": 64,
   "metadata": {},
   "outputs": [
    {
     "data": {
      "text/html": [
       "<div>\n",
       "<style scoped>\n",
       "    .dataframe tbody tr th:only-of-type {\n",
       "        vertical-align: middle;\n",
       "    }\n",
       "\n",
       "    .dataframe tbody tr th {\n",
       "        vertical-align: top;\n",
       "    }\n",
       "\n",
       "    .dataframe thead th {\n",
       "        text-align: right;\n",
       "    }\n",
       "</style>\n",
       "<table border=\"1\" class=\"dataframe\">\n",
       "  <thead>\n",
       "    <tr style=\"text-align: right;\">\n",
       "      <th></th>\n",
       "      <th>Length_Employed</th>\n",
       "      <th>Count</th>\n",
       "    </tr>\n",
       "  </thead>\n",
       "  <tbody>\n",
       "    <tr>\n",
       "      <th>0</th>\n",
       "      <td>0 Years</td>\n",
       "      <td>7371</td>\n",
       "    </tr>\n",
       "    <tr>\n",
       "      <th>1</th>\n",
       "      <td>1 year</td>\n",
       "      <td>10422</td>\n",
       "    </tr>\n",
       "    <tr>\n",
       "      <th>2</th>\n",
       "      <td>10+ years</td>\n",
       "      <td>52915</td>\n",
       "    </tr>\n",
       "    <tr>\n",
       "      <th>3</th>\n",
       "      <td>2 years</td>\n",
       "      <td>14620</td>\n",
       "    </tr>\n",
       "    <tr>\n",
       "      <th>4</th>\n",
       "      <td>3 years</td>\n",
       "      <td>12974</td>\n",
       "    </tr>\n",
       "    <tr>\n",
       "      <th>5</th>\n",
       "      <td>4 years</td>\n",
       "      <td>9784</td>\n",
       "    </tr>\n",
       "    <tr>\n",
       "      <th>6</th>\n",
       "      <td>5 years</td>\n",
       "      <td>10814</td>\n",
       "    </tr>\n",
       "    <tr>\n",
       "      <th>7</th>\n",
       "      <td>6 years</td>\n",
       "      <td>9094</td>\n",
       "    </tr>\n",
       "    <tr>\n",
       "      <th>8</th>\n",
       "      <td>7 years</td>\n",
       "      <td>9308</td>\n",
       "    </tr>\n",
       "    <tr>\n",
       "      <th>9</th>\n",
       "      <td>8 years</td>\n",
       "      <td>7917</td>\n",
       "    </tr>\n",
       "    <tr>\n",
       "      <th>10</th>\n",
       "      <td>9 years</td>\n",
       "      <td>6285</td>\n",
       "    </tr>\n",
       "    <tr>\n",
       "      <th>11</th>\n",
       "      <td>&lt; 1 year</td>\n",
       "      <td>12805</td>\n",
       "    </tr>\n",
       "  </tbody>\n",
       "</table>\n",
       "</div>"
      ],
      "text/plain": [
       "   Length_Employed  Count\n",
       "0          0 Years   7371\n",
       "1           1 year  10422\n",
       "2        10+ years  52915\n",
       "3          2 years  14620\n",
       "4          3 years  12974\n",
       "5          4 years   9784\n",
       "6          5 years  10814\n",
       "7          6 years   9094\n",
       "8          7 years   9308\n",
       "9          8 years   7917\n",
       "10         9 years   6285\n",
       "11        < 1 year  12805"
      ]
     },
     "execution_count": 64,
     "metadata": {},
     "output_type": "execute_result"
    }
   ],
   "source": [
    "train_df.assign(Length_Employed=train_df.Length_Employed.astype('str')).groupby(['Length_Employed']).size().reset_index(name='Count')"
   ]
  },
  {
   "cell_type": "code",
   "execution_count": 65,
   "metadata": {},
   "outputs": [
    {
     "data": {
      "text/plain": [
       "0    False\n",
       "1     True\n",
       "2    False\n",
       "3    False\n",
       "4    False\n",
       "Name: Annual_Income, dtype: bool"
      ]
     },
     "execution_count": 65,
     "metadata": {},
     "output_type": "execute_result"
    }
   ],
   "source": [
    "train_df[\"Annual_Income\"].isnull().head()"
   ]
  },
  {
   "cell_type": "code",
   "execution_count": 8,
   "metadata": {},
   "outputs": [],
   "source": [
    "train_df[\"Annual_Income\"] = train_df.groupby(\"Length_Employed\")[\"Annual_Income\"].transform(lambda x: x.fillna(x.mean()))"
   ]
  },
  {
   "cell_type": "code",
   "execution_count": 9,
   "metadata": {},
   "outputs": [],
   "source": [
    "test_df[\"Annual_Income\"] = test_df.groupby(\"Length_Employed\")[\"Annual_Income\"].transform(lambda x: x.fillna(x.mean()))"
   ]
  },
  {
   "cell_type": "code",
   "execution_count": 72,
   "metadata": {},
   "outputs": [
    {
     "name": "stdout",
     "output_type": "stream",
     "text": [
      "<class 'pandas.core.frame.DataFrame'>\n",
      "RangeIndex: 164309 entries, 0 to 164308\n",
      "Data columns (total 13 columns):\n",
      " #   Column                 Non-Null Count   Dtype  \n",
      "---  ------                 --------------   -----  \n",
      " 0   Loan_ID                164309 non-null  int64  \n",
      " 1   Loan_Amount_Requested  164309 non-null  object \n",
      " 2   Length_Employed        164309 non-null  object \n",
      " 3   Home_Owner             164309 non-null  object \n",
      " 4   Annual_Income          164309 non-null  float64\n",
      " 5   Income_Verified        164309 non-null  object \n",
      " 6   Purpose_Of_Loan        164309 non-null  object \n",
      " 7   Debt_To_Income         164309 non-null  float64\n",
      " 8   Inquiries_Last_6Mo     164309 non-null  int64  \n",
      " 9   Number_Open_Accounts   164309 non-null  int64  \n",
      " 10  Total_Accounts         164309 non-null  int64  \n",
      " 11  Gender                 164309 non-null  object \n",
      " 12  Interest_Rate          164309 non-null  int64  \n",
      "dtypes: float64(2), int64(5), object(6)\n",
      "memory usage: 16.3+ MB\n"
     ]
    }
   ],
   "source": [
    "train_df.info()"
   ]
  },
  {
   "cell_type": "code",
   "execution_count": 73,
   "metadata": {},
   "outputs": [
    {
     "name": "stdout",
     "output_type": "stream",
     "text": [
      "<class 'pandas.core.frame.DataFrame'>\n",
      "RangeIndex: 109541 entries, 0 to 109540\n",
      "Data columns (total 12 columns):\n",
      " #   Column                 Non-Null Count   Dtype  \n",
      "---  ------                 --------------   -----  \n",
      " 0   Loan_ID                109541 non-null  int64  \n",
      " 1   Loan_Amount_Requested  109541 non-null  object \n",
      " 2   Length_Employed        109541 non-null  object \n",
      " 3   Home_Owner             109541 non-null  object \n",
      " 4   Annual_Income          109541 non-null  float64\n",
      " 5   Income_Verified        109541 non-null  object \n",
      " 6   Purpose_Of_Loan        109541 non-null  object \n",
      " 7   Debt_To_Income         109541 non-null  float64\n",
      " 8   Inquiries_Last_6Mo     109541 non-null  int64  \n",
      " 9   Number_Open_Accounts   109541 non-null  int64  \n",
      " 10  Total_Accounts         109541 non-null  int64  \n",
      " 11  Gender                 109541 non-null  object \n",
      "dtypes: float64(2), int64(4), object(6)\n",
      "memory usage: 10.0+ MB\n"
     ]
    }
   ],
   "source": [
    "test_df.info()"
   ]
  },
  {
   "cell_type": "markdown",
   "metadata": {},
   "source": [
    "</br>"
   ]
  },
  {
   "cell_type": "markdown",
   "metadata": {},
   "source": [
    "Convert Loan_Amount_Requested to integer by removing comma"
   ]
  },
  {
   "cell_type": "code",
   "execution_count": 10,
   "metadata": {},
   "outputs": [],
   "source": [
    "train_df['Loan_Amount_Requested']=train_df['Loan_Amount_Requested'].str.replace(',','').astype('int64')"
   ]
  },
  {
   "cell_type": "code",
   "execution_count": 78,
   "metadata": {},
   "outputs": [
    {
     "name": "stdout",
     "output_type": "stream",
     "text": [
      "<class 'pandas.core.frame.DataFrame'>\n",
      "RangeIndex: 164309 entries, 0 to 164308\n",
      "Data columns (total 13 columns):\n",
      " #   Column                 Non-Null Count   Dtype  \n",
      "---  ------                 --------------   -----  \n",
      " 0   Loan_ID                164309 non-null  int64  \n",
      " 1   Loan_Amount_Requested  164309 non-null  int64  \n",
      " 2   Length_Employed        164309 non-null  object \n",
      " 3   Home_Owner             164309 non-null  object \n",
      " 4   Annual_Income          164309 non-null  float64\n",
      " 5   Income_Verified        164309 non-null  object \n",
      " 6   Purpose_Of_Loan        164309 non-null  object \n",
      " 7   Debt_To_Income         164309 non-null  float64\n",
      " 8   Inquiries_Last_6Mo     164309 non-null  int64  \n",
      " 9   Number_Open_Accounts   164309 non-null  int64  \n",
      " 10  Total_Accounts         164309 non-null  int64  \n",
      " 11  Gender                 164309 non-null  object \n",
      " 12  Interest_Rate          164309 non-null  int64  \n",
      "dtypes: float64(2), int64(6), object(5)\n",
      "memory usage: 16.3+ MB\n"
     ]
    }
   ],
   "source": [
    "train_df.info()"
   ]
  },
  {
   "cell_type": "code",
   "execution_count": 11,
   "metadata": {},
   "outputs": [],
   "source": [
    "test_df['Loan_Amount_Requested']=test_df['Loan_Amount_Requested'].str.replace(',','').astype('int64')"
   ]
  },
  {
   "cell_type": "code",
   "execution_count": 81,
   "metadata": {},
   "outputs": [
    {
     "data": {
      "text/plain": [
       "array(['< 1 year', '4 years', '7 years', '8 years', '2 years',\n",
       "       '10+ years', '1 year', '0 Years', '6 years', '9 years', '3 years',\n",
       "       '5 years'], dtype=object)"
      ]
     },
     "execution_count": 81,
     "metadata": {},
     "output_type": "execute_result"
    }
   ],
   "source": [
    "train_df['Length_Employed'].unique()"
   ]
  },
  {
   "cell_type": "code",
   "execution_count": 82,
   "metadata": {},
   "outputs": [
    {
     "data": {
      "text/plain": [
       "array(['Rent', 'Mortgage', 'Other', 'Own'], dtype=object)"
      ]
     },
     "execution_count": 82,
     "metadata": {},
     "output_type": "execute_result"
    }
   ],
   "source": [
    "train_df['Home_Owner'].unique()"
   ]
  },
  {
   "cell_type": "code",
   "execution_count": 83,
   "metadata": {},
   "outputs": [
    {
     "data": {
      "text/plain": [
       "array(['not verified', 'VERIFIED - income', 'VERIFIED - income source'],\n",
       "      dtype=object)"
      ]
     },
     "execution_count": 83,
     "metadata": {},
     "output_type": "execute_result"
    }
   ],
   "source": [
    "train_df['Income_Verified'].unique()"
   ]
  },
  {
   "cell_type": "code",
   "execution_count": 87,
   "metadata": {},
   "outputs": [
    {
     "data": {
      "text/plain": [
       "array(['car', 'debt_consolidation', 'credit_card', 'home_improvement',\n",
       "       'major_purchase', 'other', 'medical', 'small_business', 'moving',\n",
       "       'wedding', 'vacation', 'house', 'educational', 'renewable_energy'],\n",
       "      dtype=object)"
      ]
     },
     "execution_count": 87,
     "metadata": {},
     "output_type": "execute_result"
    }
   ],
   "source": [
    "train_df['Purpose_Of_Loan'].unique()"
   ]
  },
  {
   "cell_type": "code",
   "execution_count": 88,
   "metadata": {},
   "outputs": [
    {
     "data": {
      "text/plain": [
       "debt_consolidation    97101\n",
       "credit_card           36684\n",
       "home_improvement       9269\n",
       "other                  8346\n",
       "major_purchase         3435\n",
       "small_business         2392\n",
       "car                    1885\n",
       "medical                1541\n",
       "moving                  974\n",
       "vacation                837\n",
       "wedding                 828\n",
       "house                   773\n",
       "renewable_energy        123\n",
       "educational             121\n",
       "Name: Purpose_Of_Loan, dtype: int64"
      ]
     },
     "execution_count": 88,
     "metadata": {},
     "output_type": "execute_result"
    }
   ],
   "source": [
    "train_df['Purpose_Of_Loan'].value_counts()"
   ]
  },
  {
   "cell_type": "code",
   "execution_count": 89,
   "metadata": {},
   "outputs": [
    {
     "data": {
      "text/plain": [
       "array(['Female', 'Male'], dtype=object)"
      ]
     },
     "execution_count": 89,
     "metadata": {},
     "output_type": "execute_result"
    }
   ],
   "source": [
    "train_df['Gender'].unique()"
   ]
  },
  {
   "cell_type": "code",
   "execution_count": 93,
   "metadata": {},
   "outputs": [
    {
     "data": {
      "text/plain": [
       "<matplotlib.collections.PathCollection at 0x1762a5c6400>"
      ]
     },
     "execution_count": 93,
     "metadata": {},
     "output_type": "execute_result"
    },
    {
     "data": {
      "image/png": "[encoded data removed]",
      "text/plain": [
       "<Figure size 432x288 with 1 Axes>"
      ]
     },
     "metadata": {
      "needs_background": "light"
     },
     "output_type": "display_data"
    }
   ],
   "source": [
    "plt.scatter(train_df['Interest_Rate'].astype(str),train_df['Annual_Income'])"
   ]
  },
  {
   "cell_type": "markdown",
   "metadata": {},
   "source": [
    "We could see that there one or 2 Employees above 50 lac are availing interest rate 2 and 3"
   ]
  },
  {
   "cell_type": "code",
   "execution_count": 95,
   "metadata": {},
   "outputs": [
    {
     "data": {
      "text/plain": [
       "<matplotlib.axes._subplots.AxesSubplot at 0x1762e4acc88>"
      ]
     },
     "execution_count": 95,
     "metadata": {},
     "output_type": "execute_result"
    },
    {
     "data": {
      "image/png": "[encoded data removed]",
      "text/plain": [
       "<Figure size 720x1080 with 2 Axes>"
      ]
     },
     "metadata": {
      "needs_background": "light"
     },
     "output_type": "display_data"
    }
   ],
   "source": [
    "plt.figure(figsize=(10,15))\n",
    "sns.heatmap(train_df.corr(),annot=True,cmap=sns.cubehelix_palette(8))"
   ]
  },
  {
   "cell_type": "markdown",
   "metadata": {},
   "source": [
    "Number_Open_Accounts and Total_Accounts has high correlation. We could select one among them and do the model building  \n",
    "Moreover we could see relationship between Interest Rate and rest of the independent variable the correlation strength  \n",
    "is low."
   ]
  },
  {
   "cell_type": "code",
   "execution_count": 98,
   "metadata": {},
   "outputs": [
    {
     "data": {
      "text/plain": [
       "<matplotlib.axes._subplots.AxesSubplot at 0x176330f3588>"
      ]
     },
     "execution_count": 98,
     "metadata": {},
     "output_type": "execute_result"
    },
    {
     "data": {
      "image/png": "[encoded data removed]",
      "text/plain": [
       "<Figure size 432x288 with 1 Axes>"
      ]
     },
     "metadata": {
      "needs_background": "light"
     },
     "output_type": "display_data"
    }
   ],
   "source": [
    "sns.countplot(train_df['Home_Owner'],hue=train_df['Interest_Rate'].astype(str))"
   ]
  },
  {
   "cell_type": "markdown",
   "metadata": {},
   "source": [
    "For all the categories of 'Home_Owner' we could see 'Interest_Rate' category '2' is the most offered/preffered category"
   ]
  },
  {
   "cell_type": "code",
   "execution_count": 100,
   "metadata": {},
   "outputs": [
    {
     "data": {
      "text/plain": [
       "<matplotlib.axes._subplots.AxesSubplot at 0x17632cdbcf8>"
      ]
     },
     "execution_count": 100,
     "metadata": {},
     "output_type": "execute_result"
    },
    {
     "data": {
      "image/png": "[encoded data removed]",
      "text/plain": [
       "<Figure size 1080x1440 with 1 Axes>"
      ]
     },
     "metadata": {
      "needs_background": "light"
     },
     "output_type": "display_data"
    }
   ],
   "source": [
    "plt.figure(figsize=(15,20))\n",
    "sns.countplot(train_df['Length_Employed'],hue=train_df['Interest_Rate'].astype(str))"
   ]
  },
  {
   "cell_type": "markdown",
   "metadata": {},
   "source": [
    "Even based on experience of employees we could see type 2 category of 'Interest_Rate' is the most offered/prefferd choice."
   ]
  },
  {
   "cell_type": "code",
   "execution_count": 104,
   "metadata": {},
   "outputs": [
    {
     "data": {
      "text/plain": [
       "<matplotlib.axes._subplots.AxesSubplot at 0x1762b8880b8>"
      ]
     },
     "execution_count": 104,
     "metadata": {},
     "output_type": "execute_result"
    },
    {
     "data": {
      "image/png": "[encoded data removed]",
      "text/plain": [
       "<Figure size 1440x2304 with 1 Axes>"
      ]
     },
     "metadata": {
      "needs_background": "light"
     },
     "output_type": "display_data"
    }
   ],
   "source": [
    "plt.figure(figsize=(20,32))\n",
    "sns.countplot(train_df['Purpose_Of_Loan'],hue=train_df['Interest_Rate'].astype(str))"
   ]
  },
  {
   "cell_type": "markdown",
   "metadata": {},
   "source": [
    "Here 'oher','medical','small_business','moving','wedding','vacation' and 'house' has '3' type 'Interest_Rate' the most  \n",
    "whereas rest of the categories dominated by the '2' type 'Interest_Rate'"
   ]
  },
  {
   "cell_type": "code",
   "execution_count": 105,
   "metadata": {},
   "outputs": [
    {
     "name": "stdout",
     "output_type": "stream",
     "text": [
      "            Loan_ID  Loan_Amount_Requested  Annual_Income  Debt_To_Income  \\\n",
      "count  1.643090e+05           164309.00000   1.643090e+05   164309.000000   \n",
      "mean   1.008216e+07            14349.33692   7.333396e+04       17.207189   \n",
      "std    4.743207e+04             8281.86870   5.563855e+04        7.845083   \n",
      "min    1.000000e+07              500.00000   4.000000e+03        0.000000   \n",
      "25%    1.004108e+07             8000.00000   4.860000e+04       11.370000   \n",
      "50%    1.008216e+07            12075.00000   6.900000e+04       16.840000   \n",
      "75%    1.012323e+07            20000.00000   8.200000e+04       22.780000   \n",
      "max    1.016431e+07            35000.00000   7.500000e+06       39.990000   \n",
      "\n",
      "       Inquiries_Last_6Mo  Number_Open_Accounts  Total_Accounts  Interest_Rate  \n",
      "count       164309.000000         164309.000000   164309.000000  164309.000000  \n",
      "mean             0.781698             11.193818       25.067665       2.158951  \n",
      "std              1.034747              4.991813       11.583067       0.738364  \n",
      "min              0.000000              0.000000        2.000000       1.000000  \n",
      "25%              0.000000              8.000000       17.000000       2.000000  \n",
      "50%              0.000000             10.000000       23.000000       2.000000  \n",
      "75%              1.000000             14.000000       32.000000       3.000000  \n",
      "max              8.000000             76.000000      156.000000       3.000000  \n",
      "****************************************\n",
      "            Loan_ID  Loan_Amount_Requested  Annual_Income  Debt_To_Income  \\\n",
      "count  1.095410e+05          109541.000000   1.095410e+05   109541.000000   \n",
      "mean   1.021908e+07           14358.475137   7.349284e+04       17.228969   \n",
      "std    3.162191e+04            8299.811736   5.123255e+04        7.847310   \n",
      "min    1.016431e+07             500.000000   3.000000e+03        0.000000   \n",
      "25%    1.019170e+07            8000.000000   4.867100e+04       11.350000   \n",
      "50%    1.021908e+07           12000.000000   6.874923e+04       16.860000   \n",
      "75%    1.024646e+07           20000.000000   8.200000e+04       22.780000   \n",
      "max    1.027385e+07           35000.000000   7.446395e+06       39.990000   \n",
      "\n",
      "       Inquiries_Last_6Mo  Number_Open_Accounts  Total_Accounts  \n",
      "count       109541.000000         109541.000000   109541.000000  \n",
      "mean             0.788810             11.174337       25.068440  \n",
      "std              1.039903              4.946314       11.599639  \n",
      "min              0.000000              0.000000        2.000000  \n",
      "25%              0.000000              8.000000       17.000000  \n",
      "50%              0.000000             10.000000       24.000000  \n",
      "75%              1.000000             14.000000       32.000000  \n",
      "max              8.000000             84.000000      124.000000  \n"
     ]
    }
   ],
   "source": [
    "print(train_df.describe())\n",
    "print('*'*40)\n",
    "print(test_df.describe())"
   ]
  },
  {
   "cell_type": "markdown",
   "metadata": {},
   "source": [
    "We will take either Number_Open_Accounts or Total_Accounts into model building.Here we will take Number_Open_Accounts."
   ]
  },
  {
   "cell_type": "code",
   "execution_count": 12,
   "metadata": {},
   "outputs": [],
   "source": [
    "train_df.drop('Total_Accounts',axis=1,inplace=True)\n",
    "test_df.drop('Total_Accounts',axis=1,inplace=True)"
   ]
  },
  {
   "cell_type": "code",
   "execution_count": 13,
   "metadata": {},
   "outputs": [],
   "source": [
    "train_df.loc[(train_df['Annual_Income']>=0) & (train_df['Annual_Income']<=500000),'Annual_Income']=0\n",
    "train_df.loc[(train_df['Annual_Income']>500000) & (train_df['Annual_Income']<=1000000),'Annual_Income']=1\n",
    "train_df.loc[train_df['Annual_Income']>1000000,'Annual_Income']=2"
   ]
  },
  {
   "cell_type": "code",
   "execution_count": 14,
   "metadata": {},
   "outputs": [],
   "source": [
    "test_df.loc[(test_df['Annual_Income']>=0) & (test_df['Annual_Income']<=500000),'Annual_Income']=0\n",
    "test_df.loc[(test_df['Annual_Income']>500000) & (test_df['Annual_Income']<=1000000),'Annual_Income']=1\n",
    "test_df.loc[test_df['Annual_Income']>1000000,'Annual_Income']=2"
   ]
  },
  {
   "cell_type": "code",
   "execution_count": 15,
   "metadata": {},
   "outputs": [],
   "source": [
    "train_df.loc[(train_df['Loan_Amount_Requested']>=0) & (train_df['Loan_Amount_Requested']<=10000),'Loan_Amount_Requested']=0\n",
    "train_df.loc[(train_df['Loan_Amount_Requested']>10000) & (train_df['Loan_Amount_Requested']<=20000),'Loan_Amount_Requested']=1\n",
    "train_df.loc[(train_df['Loan_Amount_Requested']>20000) & (train_df['Loan_Amount_Requested']<=30000),'Loan_Amount_Requested']=2\n",
    "train_df.loc[(train_df['Loan_Amount_Requested']>30000) & (train_df['Loan_Amount_Requested']<=40000),'Loan_Amount_Requested']=3"
   ]
  },
  {
   "cell_type": "code",
   "execution_count": 16,
   "metadata": {},
   "outputs": [],
   "source": [
    "test_df.loc[(test_df['Loan_Amount_Requested']>=0) & (test_df['Loan_Amount_Requested']<=10000),'Loan_Amount_Requested']=0\n",
    "test_df.loc[(test_df['Loan_Amount_Requested']>10000) & (test_df['Loan_Amount_Requested']<=20000),'Loan_Amount_Requested']=1\n",
    "test_df.loc[(test_df['Loan_Amount_Requested']>20000) & (test_df['Loan_Amount_Requested']<=30000),'Loan_Amount_Requested']=2\n",
    "test_df.loc[(test_df['Loan_Amount_Requested']>30000) & (test_df['Loan_Amount_Requested']<=40000),'Loan_Amount_Requested']=3"
   ]
  },
  {
   "cell_type": "code",
   "execution_count": 17,
   "metadata": {},
   "outputs": [],
   "source": [
    "train_df.loc[(train_df['Debt_To_Income']>=0) & (train_df['Debt_To_Income']<=10),'Debt_To_Income']=0\n",
    "train_df.loc[(train_df['Debt_To_Income']>10) & (train_df['Debt_To_Income']<=20),'Debt_To_Income']=1\n",
    "train_df.loc[(train_df['Debt_To_Income']>20) & (train_df['Debt_To_Income']<=30),'Debt_To_Income']=2\n",
    "train_df.loc[(train_df['Debt_To_Income']>30) & (train_df['Debt_To_Income']<=40),'Debt_To_Income']=3"
   ]
  },
  {
   "cell_type": "code",
   "execution_count": 18,
   "metadata": {},
   "outputs": [],
   "source": [
    "test_df.loc[(test_df['Debt_To_Income']>=0) & (test_df['Debt_To_Income']<=10),'Debt_To_Income']=0\n",
    "test_df.loc[(test_df['Debt_To_Income']>10) & (test_df['Debt_To_Income']<=20),'Debt_To_Income']=1\n",
    "test_df.loc[(test_df['Debt_To_Income']>20) & (test_df['Debt_To_Income']<=30),'Debt_To_Income']=2\n",
    "test_df.loc[(test_df['Debt_To_Income']>30) & (test_df['Debt_To_Income']<=40),'Debt_To_Income']=3"
   ]
  },
  {
   "cell_type": "code",
   "execution_count": 19,
   "metadata": {},
   "outputs": [],
   "source": [
    "train_df.loc[(train_df['Number_Open_Accounts']>=0) & (train_df['Number_Open_Accounts']<=25),'Number_Open_Accounts']=0\n",
    "train_df.loc[(train_df['Number_Open_Accounts']>25) & (train_df['Number_Open_Accounts']<=50),'Number_Open_Accounts']=1\n",
    "train_df.loc[(train_df['Number_Open_Accounts']>50) & (train_df['Number_Open_Accounts']<=75),'Number_Open_Accounts']=2\n",
    "train_df.loc[(train_df['Number_Open_Accounts']>75) & (train_df['Number_Open_Accounts']<=100),'Number_Open_Accounts']=3"
   ]
  },
  {
   "cell_type": "code",
   "execution_count": 20,
   "metadata": {},
   "outputs": [],
   "source": [
    "test_df.loc[(test_df['Number_Open_Accounts']>=0) & (test_df['Number_Open_Accounts']<=25),'Number_Open_Accounts']=0\n",
    "test_df.loc[(test_df['Number_Open_Accounts']>25) & (test_df['Number_Open_Accounts']<=50),'Number_Open_Accounts']=1\n",
    "test_df.loc[(test_df['Number_Open_Accounts']>50) & (test_df['Number_Open_Accounts']<=75),'Number_Open_Accounts']=2\n",
    "test_df.loc[(test_df['Number_Open_Accounts']>75) & (test_df['Number_Open_Accounts']<=100),'Number_Open_Accounts']=3"
   ]
  },
  {
   "cell_type": "code",
   "execution_count": 21,
   "metadata": {},
   "outputs": [],
   "source": [
    "train_df.loc[train_df['Gender']=='Male','Gender']=0\n",
    "train_df.loc[train_df['Gender']=='Female','Gender']=1\n",
    "test_df.loc[test_df['Gender']=='Male','Gender']=0\n",
    "test_df.loc[test_df['Gender']=='Female','Gender']=1\n",
    "train_df['Gender']=train_df['Gender'].astype('float64')\n",
    "test_df['Gender']=test_df['Gender'].astype('float64')"
   ]
  },
  {
   "cell_type": "code",
   "execution_count": 121,
   "metadata": {},
   "outputs": [
    {
     "data": {
      "text/plain": [
       "array(['car', 'debt_consolidation', 'credit_card', 'home_improvement',\n",
       "       'major_purchase', 'other', 'medical', 'small_business', 'moving',\n",
       "       'wedding', 'vacation', 'house', 'educational', 'renewable_energy'],\n",
       "      dtype=object)"
      ]
     },
     "execution_count": 121,
     "metadata": {},
     "output_type": "execute_result"
    }
   ],
   "source": [
    "train_bkup['Purpose_Of_Loan'].unique()"
   ]
  },
  {
   "cell_type": "code",
   "execution_count": 22,
   "metadata": {},
   "outputs": [],
   "source": [
    "train_df.loc[(train_df['Purpose_Of_Loan']=='home_improvement') | (train_df['Purpose_Of_Loan']=='house') | \\\n",
    "         (train_df['Purpose_Of_Loan']=='vacation') | (train_df['Purpose_Of_Loan']=='wedding') | \\\n",
    "         (train_df['Purpose_Of_Loan']=='medical')  | (train_df['Purpose_Of_Loan']=='moving') | \\\n",
    "         (train_df['Purpose_Of_Loan']=='car') | (train_df['Purpose_Of_Loan']=='educational'),'Purpose_Of_Loan']=0\n",
    "train_df.loc[train_df['Purpose_Of_Loan']=='debt_consolidation','Purpose_Of_Loan']=1\n",
    "train_df.loc[train_df['Purpose_Of_Loan']=='credit_card','Purpose_Of_Loan']=2\n",
    "train_df.loc[(train_df['Purpose_Of_Loan']=='other') | (train_df['Purpose_Of_Loan']=='major_purchase') | \\\n",
    "         (train_df['Purpose_Of_Loan']=='renewable_energy'),'Purpose_Of_Loan']=3         \n",
    "train_df.loc[train_df['Purpose_Of_Loan']=='small_business','Purpose_Of_Loan']=4\n",
    "train_df['Purpose_Of_Loan']=train_df['Purpose_Of_Loan'].astype('float64')"
   ]
  },
  {
   "cell_type": "code",
   "execution_count": 23,
   "metadata": {},
   "outputs": [],
   "source": [
    "test_df.loc[(test_df['Purpose_Of_Loan']=='home_improvement') | (test_df['Purpose_Of_Loan']=='house') | \\\n",
    "         (test_df['Purpose_Of_Loan']=='vacation') | (test_df['Purpose_Of_Loan']=='wedding') | \\\n",
    "         (test_df['Purpose_Of_Loan']=='medical')  | (test_df['Purpose_Of_Loan']=='moving') | \\\n",
    "         (test_df['Purpose_Of_Loan']=='car') | (test_df['Purpose_Of_Loan']=='educational'),'Purpose_Of_Loan']=0\n",
    "test_df.loc[test_df['Purpose_Of_Loan']=='debt_consolidation','Purpose_Of_Loan']=1\n",
    "test_df.loc[test_df['Purpose_Of_Loan']=='credit_card','Purpose_Of_Loan']=2\n",
    "test_df.loc[(test_df['Purpose_Of_Loan']=='other') | (test_df['Purpose_Of_Loan']=='major_purchase') | \\\n",
    "         (test_df['Purpose_Of_Loan']=='renewable_energy'),'Purpose_Of_Loan']=3         \n",
    "test_df.loc[test_df['Purpose_Of_Loan']=='small_business','Purpose_Of_Loan']=4\n",
    "test_df['Purpose_Of_Loan']=test_df['Purpose_Of_Loan'].astype('float64')"
   ]
  },
  {
   "cell_type": "code",
   "execution_count": 24,
   "metadata": {},
   "outputs": [],
   "source": [
    "train_df.loc[train_df['Income_Verified']=='not verified','Income_Verified']=0\n",
    "train_df.loc[(train_df['Income_Verified']=='VERIFIED - income') | (train_df['Income_Verified']=='VERIFIED - income source'),'Income_Verified']=1\n",
    "train_df['Income_Verified']=train_df['Income_Verified'].astype('float64')"
   ]
  },
  {
   "cell_type": "code",
   "execution_count": 25,
   "metadata": {},
   "outputs": [],
   "source": [
    "test_df.loc[test_df['Income_Verified']=='not verified','Income_Verified']=0\n",
    "test_df.loc[(test_df['Income_Verified']=='VERIFIED - income') | (test_df['Income_Verified']=='VERIFIED - income source') \\\n",
    "             ,'Income_Verified']=1\n",
    "test_df['Income_Verified']=test_df['Income_Verified'].astype('float64')"
   ]
  },
  {
   "cell_type": "code",
   "execution_count": 26,
   "metadata": {},
   "outputs": [],
   "source": [
    "train_df.loc[train_df['Home_Owner']=='Mortgage','Home_Owner']=0\n",
    "train_df.loc[train_df['Home_Owner']=='Rent','Home_Owner']=1\n",
    "train_df.loc[train_df['Home_Owner']=='Other','Home_Owner']=2\n",
    "train_df.loc[train_df['Home_Owner']=='Own','Home_Owner']=3\n",
    "train_df['Home_Owner']=train_df['Home_Owner'].astype('float64')"
   ]
  },
  {
   "cell_type": "code",
   "execution_count": 27,
   "metadata": {},
   "outputs": [],
   "source": [
    "test_df.loc[test_df['Home_Owner']=='Mortgage','Home_Owner']=0\n",
    "test_df.loc[test_df['Home_Owner']=='Rent','Home_Owner']=1\n",
    "test_df.loc[test_df['Home_Owner']=='Other','Home_Owner']=2\n",
    "test_df.loc[test_df['Home_Owner']=='Own','Home_Owner']=3\n",
    "test_df['Home_Owner']=test_df['Home_Owner'].astype('float64')"
   ]
  },
  {
   "cell_type": "code",
   "execution_count": 28,
   "metadata": {},
   "outputs": [],
   "source": [
    "train_df.loc[(train_df['Length_Employed']=='< 1 year') | (train_df['Length_Employed']=='1 year') | \\\n",
    "         (train_df['Length_Employed']=='0 Years') |  (train_df['Length_Employed']=='2 years') | \\\n",
    "         (train_df['Length_Employed']=='3 years') |  (train_df['Length_Employed']=='4 years') | \\\n",
    "         (train_df['Length_Employed']=='5 years'),'Length_Employed']=0\n",
    "train_df.loc[(train_df['Length_Employed']=='6 years') | (train_df['Length_Employed']=='7 years') | \\\n",
    "             (train_df['Length_Employed']=='8 years') | (train_df['Length_Employed']=='9 years'),'Length_Employed']=1\n",
    "train_df.loc[train_df['Length_Employed']=='10+ years','Length_Employed']=2\n",
    "train_df['Length_Employed']=train_df['Length_Employed'].astype('float64')"
   ]
  },
  {
   "cell_type": "code",
   "execution_count": 29,
   "metadata": {},
   "outputs": [],
   "source": [
    "test_df.loc[(test_df['Length_Employed']=='< 1 year') | (test_df['Length_Employed']=='1 year') | \\\n",
    "         (test_df['Length_Employed']=='0 Years') |  (test_df['Length_Employed']=='2 years') | \\\n",
    "         (test_df['Length_Employed']=='3 years') |  (test_df['Length_Employed']=='4 years') | \\\n",
    "         (test_df['Length_Employed']=='5 years'),'Length_Employed']=0\n",
    "test_df.loc[(test_df['Length_Employed']=='6 years') | (test_df['Length_Employed']=='7 years') | \\\n",
    "             (test_df['Length_Employed']=='8 years') | (test_df['Length_Employed']=='9 years'),'Length_Employed']=1\n",
    "test_df.loc[test_df['Length_Employed']=='10+ years','Length_Employed']=2\n",
    "test_df['Length_Employed']=test_df['Length_Employed'].astype('float64')"
   ]
  },
  {
   "cell_type": "code",
   "execution_count": 175,
   "metadata": {},
   "outputs": [
    {
     "name": "stdout",
     "output_type": "stream",
     "text": [
      "<class 'pandas.core.frame.DataFrame'>\n",
      "RangeIndex: 109541 entries, 0 to 109540\n",
      "Data columns (total 11 columns):\n",
      " #   Column                 Non-Null Count   Dtype  \n",
      "---  ------                 --------------   -----  \n",
      " 0   Loan_ID                109541 non-null  int64  \n",
      " 1   Loan_Amount_Requested  109541 non-null  int64  \n",
      " 2   Length_Employed        109541 non-null  float64\n",
      " 3   Home_Owner             109541 non-null  float64\n",
      " 4   Annual_Income          109541 non-null  float64\n",
      " 5   Income_Verified        109541 non-null  float64\n",
      " 6   Purpose_Of_Loan        109541 non-null  float64\n",
      " 7   Debt_To_Income         109541 non-null  float64\n",
      " 8   Inquiries_Last_6Mo     109541 non-null  int64  \n",
      " 9   Number_Open_Accounts   109541 non-null  int64  \n",
      " 10  Gender                 109541 non-null  float64\n",
      "dtypes: float64(7), int64(4)\n",
      "memory usage: 9.2 MB\n"
     ]
    }
   ],
   "source": [
    "test_df.info()"
   ]
  },
  {
   "cell_type": "code",
   "execution_count": 138,
   "metadata": {},
   "outputs": [
    {
     "name": "stdout",
     "output_type": "stream",
     "text": [
      "<class 'pandas.core.frame.DataFrame'>\n",
      "Index: 164310 entries, 0 to Gender\n",
      "Data columns (total 12 columns):\n",
      " #   Column                 Non-Null Count   Dtype  \n",
      "---  ------                 --------------   -----  \n",
      " 0   Loan_ID                164309 non-null  float64\n",
      " 1   Loan_Amount_Requested  164309 non-null  float64\n",
      " 2   Length_Employed        164309 non-null  float64\n",
      " 3   Home_Owner             164309 non-null  float64\n",
      " 4   Annual_Income          164309 non-null  float64\n",
      " 5   Income_Verified        164310 non-null  int64  \n",
      " 6   Purpose_Of_Loan        164310 non-null  int64  \n",
      " 7   Debt_To_Income         164309 non-null  float64\n",
      " 8   Inquiries_Last_6Mo     164309 non-null  float64\n",
      " 9   Number_Open_Accounts   164309 non-null  float64\n",
      " 10  Gender                 164309 non-null  float64\n",
      " 11  Interest_Rate          164309 non-null  float64\n",
      "dtypes: float64(10), int64(2)\n",
      "memory usage: 21.3+ MB\n"
     ]
    }
   ],
   "source": [
    "train_df.info()"
   ]
  },
  {
   "cell_type": "code",
   "execution_count": 54,
   "metadata": {},
   "outputs": [],
   "source": [
    "#train_bkup2=train_df.copy()\n",
    "#test_bkup2=test_df.copy()"
   ]
  },
  {
   "cell_type": "code",
   "execution_count": 120,
   "metadata": {},
   "outputs": [],
   "source": [
    "train_df=train_bkup2.copy()\n",
    "test_df=test_bkup2.copy()"
   ]
  },
  {
   "cell_type": "code",
   "execution_count": 56,
   "metadata": {},
   "outputs": [
    {
     "data": {
      "text/plain": [
       "<matplotlib.axes._subplots.AxesSubplot at 0x22d4e7f7438>"
      ]
     },
     "execution_count": 56,
     "metadata": {},
     "output_type": "execute_result"
    },
    {
     "data": {
      "image/png": "[encoded data removed]",
      "text/plain": [
       "<Figure size 1080x1800 with 2 Axes>"
      ]
     },
     "metadata": {
      "needs_background": "light"
     },
     "output_type": "display_data"
    }
   ],
   "source": [
    "plt.figure(figsize=(15,25))\n",
    "sns.heatmap(train_df.corr(),annot=True,cmap=sns.cubehelix_palette(8))"
   ]
  },
  {
   "cell_type": "code",
   "execution_count": 121,
   "metadata": {},
   "outputs": [],
   "source": [
    "train_df.drop(['Number_Open_Accounts','Gender'],axis=1,inplace=True)"
   ]
  },
  {
   "cell_type": "code",
   "execution_count": 122,
   "metadata": {},
   "outputs": [],
   "source": [
    "test_df.drop(['Number_Open_Accounts','Gender'],axis=1,inplace=True)"
   ]
  },
  {
   "cell_type": "code",
   "execution_count": 59,
   "metadata": {},
   "outputs": [],
   "source": [
    "ts_loan_id=test_df['Loan_ID']\n",
    "tr_loan_id=train_df['Loan_ID']"
   ]
  },
  {
   "cell_type": "code",
   "execution_count": 123,
   "metadata": {},
   "outputs": [],
   "source": [
    "X_test=test_df.drop('Loan_ID',axis=1)"
   ]
  },
  {
   "cell_type": "code",
   "execution_count": 124,
   "metadata": {},
   "outputs": [],
   "source": [
    "X_train=train_df.drop(['Loan_ID','Interest_Rate'],axis=1)"
   ]
  },
  {
   "cell_type": "code",
   "execution_count": 125,
   "metadata": {},
   "outputs": [],
   "source": [
    "Y_train=train_df['Interest_Rate']"
   ]
  },
  {
   "cell_type": "code",
   "execution_count": 34,
   "metadata": {},
   "outputs": [],
   "source": [
    " from sklearn.naive_bayes import GaussianNB"
   ]
  },
  {
   "cell_type": "code",
   "execution_count": 35,
   "metadata": {},
   "outputs": [],
   "source": [
    "rfcl=RandomForestClassifier()\n",
    "adboost=xgb.XGBClassifier()\n",
    "knn=KNeighborsClassifier()"
   ]
  },
  {
   "cell_type": "code",
   "execution_count": 36,
   "metadata": {},
   "outputs": [],
   "source": [
    "GB=GaussianNB()"
   ]
  },
  {
   "cell_type": "code",
   "execution_count": 126,
   "metadata": {},
   "outputs": [
    {
     "data": {
      "text/plain": [
       "RandomForestClassifier(bootstrap=True, ccp_alpha=0.0, class_weight=None,\n",
       "                       criterion='gini', max_depth=None, max_features='auto',\n",
       "                       max_leaf_nodes=None, max_samples=None,\n",
       "                       min_impurity_decrease=0.0, min_impurity_split=None,\n",
       "                       min_samples_leaf=1, min_samples_split=2,\n",
       "                       min_weight_fraction_leaf=0.0, n_estimators=100,\n",
       "                       n_jobs=None, oob_score=False, random_state=None,\n",
       "                       verbose=0, warm_start=False)"
      ]
     },
     "execution_count": 126,
     "metadata": {},
     "output_type": "execute_result"
    }
   ],
   "source": [
    "rfcl.fit(X_train,Y_train)"
   ]
  },
  {
   "cell_type": "code",
   "execution_count": 127,
   "metadata": {},
   "outputs": [
    {
     "data": {
      "text/plain": [
       "0.5253090214169643"
      ]
     },
     "execution_count": 127,
     "metadata": {},
     "output_type": "execute_result"
    }
   ],
   "source": [
    "rfcl.score(X_train,Y_train)"
   ]
  },
  {
   "cell_type": "code",
   "execution_count": 88,
   "metadata": {},
   "outputs": [
    {
     "data": {
      "text/plain": [
       "GaussianNB(priors=None, var_smoothing=1e-09)"
      ]
     },
     "execution_count": 88,
     "metadata": {},
     "output_type": "execute_result"
    }
   ],
   "source": [
    "GB.fit(X_train,Y_train)"
   ]
  },
  {
   "cell_type": "code",
   "execution_count": 89,
   "metadata": {},
   "outputs": [
    {
     "data": {
      "text/plain": [
       "0.4897358026644919"
      ]
     },
     "execution_count": 89,
     "metadata": {},
     "output_type": "execute_result"
    }
   ],
   "source": [
    "GB.score(X_train,Y_train)"
   ]
  },
  {
   "cell_type": "code",
   "execution_count": 128,
   "metadata": {},
   "outputs": [
    {
     "data": {
      "text/plain": [
       "XGBClassifier(base_score=0.5, booster='gbtree', colsample_bylevel=1,\n",
       "              colsample_bynode=1, colsample_bytree=1, gamma=0, gpu_id=-1,\n",
       "              importance_type='gain', interaction_constraints='',\n",
       "              learning_rate=0.300000012, max_delta_step=0, max_depth=6,\n",
       "              min_child_weight=1, missing=nan, monotone_constraints='()',\n",
       "              n_estimators=100, n_jobs=0, num_parallel_tree=1,\n",
       "              objective='multi:softprob', random_state=0, reg_alpha=0,\n",
       "              reg_lambda=1, scale_pos_weight=None, subsample=1,\n",
       "              tree_method='exact', validate_parameters=1, verbosity=None)"
      ]
     },
     "execution_count": 128,
     "metadata": {},
     "output_type": "execute_result"
    }
   ],
   "source": [
    "adboost.fit(X_train,Y_train)"
   ]
  },
  {
   "cell_type": "code",
   "execution_count": 129,
   "metadata": {},
   "outputs": [
    {
     "data": {
      "text/plain": [
       "0.5114692439245567"
      ]
     },
     "execution_count": 129,
     "metadata": {},
     "output_type": "execute_result"
    }
   ],
   "source": [
    "adboost.score(X_train,Y_train)"
   ]
  },
  {
   "cell_type": "code",
   "execution_count": 110,
   "metadata": {},
   "outputs": [],
   "source": [
    "rf_pred=rfcl.predict(X_test)"
   ]
  },
  {
   "cell_type": "code",
   "execution_count": 111,
   "metadata": {},
   "outputs": [],
   "source": [
    "data={'Loan_ID':ts_loan_id,'Interest_Rate':rf_pred}"
   ]
  },
  {
   "cell_type": "code",
   "execution_count": 112,
   "metadata": {},
   "outputs": [],
   "source": [
    "final_df=pd.DataFrame(data)"
   ]
  },
  {
   "cell_type": "code",
   "execution_count": 74,
   "metadata": {},
   "outputs": [
    {
     "name": "stdout",
     "output_type": "stream",
     "text": [
      "<class 'pandas.core.frame.DataFrame'>\n",
      "RangeIndex: 109541 entries, 0 to 109540\n",
      "Data columns (total 2 columns):\n",
      " #   Column         Non-Null Count   Dtype\n",
      "---  ------         --------------   -----\n",
      " 0   Loan_ID        109541 non-null  int64\n",
      " 1   Interest_Rate  109541 non-null  int64\n",
      "dtypes: int64(2)\n",
      "memory usage: 1.7 MB\n"
     ]
    }
   ],
   "source": [
    "final_df.info()"
   ]
  },
  {
   "cell_type": "code",
   "execution_count": 113,
   "metadata": {},
   "outputs": [],
   "source": [
    "final_df.to_csv('D:\\\\ANALYTICS\\\\HACKATHONS\\\\JANATAHACK-Analytics Vidhya\\\\AV_Submission_31052020_V6.csv')"
   ]
  },
  {
   "cell_type": "code",
   "execution_count": 130,
   "metadata": {},
   "outputs": [],
   "source": [
    "xgb_pred=adboost.predict(X_test)"
   ]
  },
  {
   "cell_type": "code",
   "execution_count": 131,
   "metadata": {},
   "outputs": [],
   "source": [
    "data={'Loan_ID':ts_loan_id,'Interest_Rate':xgb_pred}"
   ]
  },
  {
   "cell_type": "code",
   "execution_count": 132,
   "metadata": {},
   "outputs": [],
   "source": [
    "final_df=pd.DataFrame(data)"
   ]
  },
  {
   "cell_type": "code",
   "execution_count": 133,
   "metadata": {},
   "outputs": [],
   "source": [
    "final_df.to_csv('D:\\\\ANALYTICS\\\\HACKATHONS\\\\JANATAHACK-Analytics Vidhya\\\\AV_Submission_31052020_V8.csv')"
   ]
  },
  {
   "cell_type": "code",
   "execution_count": null,
   "metadata": {},
   "outputs": [],
   "source": []
  }
 ],
 "metadata": {
  "kernelspec": {
   "display_name": "Python 3",
   "language": "python",
   "name": "python3"
  },
  "language_info": {
   "codemirror_mode": {
    "name": "ipython",
    "version": 3
   },
   "file_extension": ".py",
   "mimetype": "text/x-python",
   "name": "python",
   "nbconvert_exporter": "python",
   "pygments_lexer": "ipython3",
   "version": "3.6.10"
  }
 },
 "nbformat": 4,
 "nbformat_minor": 4
}
