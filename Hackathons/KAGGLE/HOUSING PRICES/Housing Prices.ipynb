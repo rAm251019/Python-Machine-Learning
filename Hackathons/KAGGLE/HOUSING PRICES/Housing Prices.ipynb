{
 "cells": [
  {
   "cell_type": "code",
   "execution_count": 1,
   "metadata": {},
   "outputs": [],
   "source": [
    "import pandas as pd\n",
    "import numpy as np\n",
    "import seaborn as sns\n",
    "import matplotlib.pyplot as plt"
   ]
  },
  {
   "cell_type": "code",
   "execution_count": 74,
   "metadata": {},
   "outputs": [],
   "source": [
    "train_df=pd.read_csv('D:\\\\ANALYTICS\\\\KAGGLE\\\\Housing Prices\\\\train.csv',na_values=['NA'])"
   ]
  },
  {
   "cell_type": "code",
   "execution_count": 75,
   "metadata": {},
   "outputs": [],
   "source": [
    "test_df=pd.read_csv('D:\\\\ANALYTICS\\\\KAGGLE\\\\Housing Prices\\\\test.csv',na_values=['NA'])"
   ]
  },
  {
   "cell_type": "code",
   "execution_count": 4,
   "metadata": {},
   "outputs": [
    {
     "name": "stdout",
     "output_type": "stream",
     "text": [
      "<class 'pandas.core.frame.DataFrame'>\n",
      "RangeIndex: 1460 entries, 0 to 1459\n",
      "Data columns (total 81 columns):\n",
      " #   Column         Non-Null Count  Dtype  \n",
      "---  ------         --------------  -----  \n",
      " 0   Id             1460 non-null   int64  \n",
      " 1   MSSubClass     1460 non-null   int64  \n",
      " 2   MSZoning       1460 non-null   object \n",
      " 3   LotFrontage    1201 non-null   float64\n",
      " 4   LotArea        1460 non-null   int64  \n",
      " 5   Street         1460 non-null   object \n",
      " 6   Alley          91 non-null     object \n",
      " 7   LotShape       1460 non-null   object \n",
      " 8   LandContour    1460 non-null   object \n",
      " 9   Utilities      1460 non-null   object \n",
      " 10  LotConfig      1460 non-null   object \n",
      " 11  LandSlope      1460 non-null   object \n",
      " 12  Neighborhood   1460 non-null   object \n",
      " 13  Condition1     1460 non-null   object \n",
      " 14  Condition2     1460 non-null   object \n",
      " 15  BldgType       1460 non-null   object \n",
      " 16  HouseStyle     1460 non-null   object \n",
      " 17  OverallQual    1460 non-null   int64  \n",
      " 18  OverallCond    1460 non-null   int64  \n",
      " 19  YearBuilt      1460 non-null   int64  \n",
      " 20  YearRemodAdd   1460 non-null   int64  \n",
      " 21  RoofStyle      1460 non-null   object \n",
      " 22  RoofMatl       1460 non-null   object \n",
      " 23  Exterior1st    1460 non-null   object \n",
      " 24  Exterior2nd    1460 non-null   object \n",
      " 25  MasVnrType     1452 non-null   object \n",
      " 26  MasVnrArea     1452 non-null   float64\n",
      " 27  ExterQual      1460 non-null   object \n",
      " 28  ExterCond      1460 non-null   object \n",
      " 29  Foundation     1460 non-null   object \n",
      " 30  BsmtQual       1423 non-null   object \n",
      " 31  BsmtCond       1423 non-null   object \n",
      " 32  BsmtExposure   1422 non-null   object \n",
      " 33  BsmtFinType1   1423 non-null   object \n",
      " 34  BsmtFinSF1     1460 non-null   int64  \n",
      " 35  BsmtFinType2   1422 non-null   object \n",
      " 36  BsmtFinSF2     1460 non-null   int64  \n",
      " 37  BsmtUnfSF      1460 non-null   int64  \n",
      " 38  TotalBsmtSF    1460 non-null   int64  \n",
      " 39  Heating        1460 non-null   object \n",
      " 40  HeatingQC      1460 non-null   object \n",
      " 41  CentralAir     1460 non-null   object \n",
      " 42  Electrical     1459 non-null   object \n",
      " 43  1stFlrSF       1460 non-null   int64  \n",
      " 44  2ndFlrSF       1460 non-null   int64  \n",
      " 45  LowQualFinSF   1460 non-null   int64  \n",
      " 46  GrLivArea      1460 non-null   int64  \n",
      " 47  BsmtFullBath   1460 non-null   int64  \n",
      " 48  BsmtHalfBath   1460 non-null   int64  \n",
      " 49  FullBath       1460 non-null   int64  \n",
      " 50  HalfBath       1460 non-null   int64  \n",
      " 51  BedroomAbvGr   1460 non-null   int64  \n",
      " 52  KitchenAbvGr   1460 non-null   int64  \n",
      " 53  KitchenQual    1460 non-null   object \n",
      " 54  TotRmsAbvGrd   1460 non-null   int64  \n",
      " 55  Functional     1460 non-null   object \n",
      " 56  Fireplaces     1460 non-null   int64  \n",
      " 57  FireplaceQu    770 non-null    object \n",
      " 58  GarageType     1379 non-null   object \n",
      " 59  GarageYrBlt    1379 non-null   float64\n",
      " 60  GarageFinish   1379 non-null   object \n",
      " 61  GarageCars     1460 non-null   int64  \n",
      " 62  GarageArea     1460 non-null   int64  \n",
      " 63  GarageQual     1379 non-null   object \n",
      " 64  GarageCond     1379 non-null   object \n",
      " 65  PavedDrive     1460 non-null   object \n",
      " 66  WoodDeckSF     1460 non-null   int64  \n",
      " 67  OpenPorchSF    1460 non-null   int64  \n",
      " 68  EnclosedPorch  1460 non-null   int64  \n",
      " 69  3SsnPorch      1460 non-null   int64  \n",
      " 70  ScreenPorch    1460 non-null   int64  \n",
      " 71  PoolArea       1460 non-null   int64  \n",
      " 72  PoolQC         7 non-null      object \n",
      " 73  Fence          281 non-null    object \n",
      " 74  MiscFeature    54 non-null     object \n",
      " 75  MiscVal        1460 non-null   int64  \n",
      " 76  MoSold         1460 non-null   int64  \n",
      " 77  YrSold         1460 non-null   int64  \n",
      " 78  SaleType       1460 non-null   object \n",
      " 79  SaleCondition  1460 non-null   object \n",
      " 80  SalePrice      1460 non-null   int64  \n",
      "dtypes: float64(3), int64(35), object(43)\n",
      "memory usage: 924.0+ KB\n"
     ]
    }
   ],
   "source": [
    "train_df.info()"
   ]
  },
  {
   "cell_type": "code",
   "execution_count": 5,
   "metadata": {},
   "outputs": [
    {
     "name": "stdout",
     "output_type": "stream",
     "text": [
      "<class 'pandas.core.frame.DataFrame'>\n",
      "RangeIndex: 1459 entries, 0 to 1458\n",
      "Data columns (total 80 columns):\n",
      " #   Column         Non-Null Count  Dtype  \n",
      "---  ------         --------------  -----  \n",
      " 0   Id             1459 non-null   int64  \n",
      " 1   MSSubClass     1459 non-null   int64  \n",
      " 2   MSZoning       1455 non-null   object \n",
      " 3   LotFrontage    1232 non-null   float64\n",
      " 4   LotArea        1459 non-null   int64  \n",
      " 5   Street         1459 non-null   object \n",
      " 6   Alley          107 non-null    object \n",
      " 7   LotShape       1459 non-null   object \n",
      " 8   LandContour    1459 non-null   object \n",
      " 9   Utilities      1457 non-null   object \n",
      " 10  LotConfig      1459 non-null   object \n",
      " 11  LandSlope      1459 non-null   object \n",
      " 12  Neighborhood   1459 non-null   object \n",
      " 13  Condition1     1459 non-null   object \n",
      " 14  Condition2     1459 non-null   object \n",
      " 15  BldgType       1459 non-null   object \n",
      " 16  HouseStyle     1459 non-null   object \n",
      " 17  OverallQual    1459 non-null   int64  \n",
      " 18  OverallCond    1459 non-null   int64  \n",
      " 19  YearBuilt      1459 non-null   int64  \n",
      " 20  YearRemodAdd   1459 non-null   int64  \n",
      " 21  RoofStyle      1459 non-null   object \n",
      " 22  RoofMatl       1459 non-null   object \n",
      " 23  Exterior1st    1458 non-null   object \n",
      " 24  Exterior2nd    1458 non-null   object \n",
      " 25  MasVnrType     1443 non-null   object \n",
      " 26  MasVnrArea     1444 non-null   float64\n",
      " 27  ExterQual      1459 non-null   object \n",
      " 28  ExterCond      1459 non-null   object \n",
      " 29  Foundation     1459 non-null   object \n",
      " 30  BsmtQual       1415 non-null   object \n",
      " 31  BsmtCond       1414 non-null   object \n",
      " 32  BsmtExposure   1415 non-null   object \n",
      " 33  BsmtFinType1   1417 non-null   object \n",
      " 34  BsmtFinSF1     1458 non-null   float64\n",
      " 35  BsmtFinType2   1417 non-null   object \n",
      " 36  BsmtFinSF2     1458 non-null   float64\n",
      " 37  BsmtUnfSF      1458 non-null   float64\n",
      " 38  TotalBsmtSF    1458 non-null   float64\n",
      " 39  Heating        1459 non-null   object \n",
      " 40  HeatingQC      1459 non-null   object \n",
      " 41  CentralAir     1459 non-null   object \n",
      " 42  Electrical     1459 non-null   object \n",
      " 43  1stFlrSF       1459 non-null   int64  \n",
      " 44  2ndFlrSF       1459 non-null   int64  \n",
      " 45  LowQualFinSF   1459 non-null   int64  \n",
      " 46  GrLivArea      1459 non-null   int64  \n",
      " 47  BsmtFullBath   1457 non-null   float64\n",
      " 48  BsmtHalfBath   1457 non-null   float64\n",
      " 49  FullBath       1459 non-null   int64  \n",
      " 50  HalfBath       1459 non-null   int64  \n",
      " 51  BedroomAbvGr   1459 non-null   int64  \n",
      " 52  KitchenAbvGr   1459 non-null   int64  \n",
      " 53  KitchenQual    1458 non-null   object \n",
      " 54  TotRmsAbvGrd   1459 non-null   int64  \n",
      " 55  Functional     1457 non-null   object \n",
      " 56  Fireplaces     1459 non-null   int64  \n",
      " 57  FireplaceQu    729 non-null    object \n",
      " 58  GarageType     1383 non-null   object \n",
      " 59  GarageYrBlt    1381 non-null   float64\n",
      " 60  GarageFinish   1381 non-null   object \n",
      " 61  GarageCars     1458 non-null   float64\n",
      " 62  GarageArea     1458 non-null   float64\n",
      " 63  GarageQual     1381 non-null   object \n",
      " 64  GarageCond     1381 non-null   object \n",
      " 65  PavedDrive     1459 non-null   object \n",
      " 66  WoodDeckSF     1459 non-null   int64  \n",
      " 67  OpenPorchSF    1459 non-null   int64  \n",
      " 68  EnclosedPorch  1459 non-null   int64  \n",
      " 69  3SsnPorch      1459 non-null   int64  \n",
      " 70  ScreenPorch    1459 non-null   int64  \n",
      " 71  PoolArea       1459 non-null   int64  \n",
      " 72  PoolQC         3 non-null      object \n",
      " 73  Fence          290 non-null    object \n",
      " 74  MiscFeature    51 non-null     object \n",
      " 75  MiscVal        1459 non-null   int64  \n",
      " 76  MoSold         1459 non-null   int64  \n",
      " 77  YrSold         1459 non-null   int64  \n",
      " 78  SaleType       1458 non-null   object \n",
      " 79  SaleCondition  1459 non-null   object \n",
      "dtypes: float64(11), int64(26), object(43)\n",
      "memory usage: 912.0+ KB\n"
     ]
    }
   ],
   "source": [
    "test_df.info()"
   ]
  },
  {
   "cell_type": "code",
   "execution_count": 7,
   "metadata": {},
   "outputs": [
    {
     "data": {
      "text/plain": [
       "Id                 0\n",
       "MSSubClass         0\n",
       "MSZoning           0\n",
       "LotFrontage      259\n",
       "LotArea            0\n",
       "                ... \n",
       "MoSold             0\n",
       "YrSold             0\n",
       "SaleType           0\n",
       "SaleCondition      0\n",
       "SalePrice          0\n",
       "Length: 81, dtype: int64"
      ]
     },
     "execution_count": 7,
     "metadata": {},
     "output_type": "execute_result"
    }
   ],
   "source": [
    "train_df.isnull().sum()"
   ]
  },
  {
   "cell_type": "code",
   "execution_count": 6,
   "metadata": {},
   "outputs": [
    {
     "data": {
      "text/plain": [
       "Id                 0\n",
       "MSSubClass         0\n",
       "MSZoning           4\n",
       "LotFrontage      227\n",
       "LotArea            0\n",
       "                ... \n",
       "MiscVal            0\n",
       "MoSold             0\n",
       "YrSold             0\n",
       "SaleType           1\n",
       "SaleCondition      0\n",
       "Length: 80, dtype: int64"
      ]
     },
     "execution_count": 6,
     "metadata": {},
     "output_type": "execute_result"
    }
   ],
   "source": [
    "test_df.isnull().sum()"
   ]
  },
  {
   "cell_type": "code",
   "execution_count": 8,
   "metadata": {},
   "outputs": [],
   "source": [
    "null_df=pd.DataFrame((train_df.isnull().sum())/(train_df.isnull().count()),index=train_df.columns,columns=['Null in %'])"
   ]
  },
  {
   "cell_type": "code",
   "execution_count": 9,
   "metadata": {},
   "outputs": [
    {
     "data": {
      "text/html": [
       "<div>\n",
       "<style scoped>\n",
       "    .dataframe tbody tr th:only-of-type {\n",
       "        vertical-align: middle;\n",
       "    }\n",
       "\n",
       "    .dataframe tbody tr th {\n",
       "        vertical-align: top;\n",
       "    }\n",
       "\n",
       "    .dataframe thead th {\n",
       "        text-align: right;\n",
       "    }\n",
       "</style>\n",
       "<table border=\"1\" class=\"dataframe\">\n",
       "  <thead>\n",
       "    <tr style=\"text-align: right;\">\n",
       "      <th></th>\n",
       "      <th>Null in %</th>\n",
       "    </tr>\n",
       "  </thead>\n",
       "  <tbody>\n",
       "    <tr>\n",
       "      <th>Id</th>\n",
       "      <td>0.000000</td>\n",
       "    </tr>\n",
       "    <tr>\n",
       "      <th>MSSubClass</th>\n",
       "      <td>0.000000</td>\n",
       "    </tr>\n",
       "    <tr>\n",
       "      <th>MSZoning</th>\n",
       "      <td>0.000000</td>\n",
       "    </tr>\n",
       "    <tr>\n",
       "      <th>LotFrontage</th>\n",
       "      <td>0.177397</td>\n",
       "    </tr>\n",
       "    <tr>\n",
       "      <th>LotArea</th>\n",
       "      <td>0.000000</td>\n",
       "    </tr>\n",
       "  </tbody>\n",
       "</table>\n",
       "</div>"
      ],
      "text/plain": [
       "             Null in %\n",
       "Id            0.000000\n",
       "MSSubClass    0.000000\n",
       "MSZoning      0.000000\n",
       "LotFrontage   0.177397\n",
       "LotArea       0.000000"
      ]
     },
     "execution_count": 9,
     "metadata": {},
     "output_type": "execute_result"
    }
   ],
   "source": [
    "null_df.head()"
   ]
  },
  {
   "cell_type": "code",
   "execution_count": 10,
   "metadata": {},
   "outputs": [],
   "source": [
    "null_df=null_df.sort_values(by='Null in %',ascending=False)"
   ]
  },
  {
   "cell_type": "code",
   "execution_count": 11,
   "metadata": {},
   "outputs": [],
   "source": [
    "null_df['Null Count']=train_df.isnull().sum()"
   ]
  },
  {
   "cell_type": "code",
   "execution_count": 12,
   "metadata": {},
   "outputs": [],
   "source": [
    "null_df['No of rows']=train_df.isnull().count()"
   ]
  },
  {
   "cell_type": "code",
   "execution_count": 13,
   "metadata": {},
   "outputs": [
    {
     "data": {
      "text/html": [
       "<div>\n",
       "<style scoped>\n",
       "    .dataframe tbody tr th:only-of-type {\n",
       "        vertical-align: middle;\n",
       "    }\n",
       "\n",
       "    .dataframe tbody tr th {\n",
       "        vertical-align: top;\n",
       "    }\n",
       "\n",
       "    .dataframe thead th {\n",
       "        text-align: right;\n",
       "    }\n",
       "</style>\n",
       "<table border=\"1\" class=\"dataframe\">\n",
       "  <thead>\n",
       "    <tr style=\"text-align: right;\">\n",
       "      <th></th>\n",
       "      <th>Null in %</th>\n",
       "      <th>Null Count</th>\n",
       "      <th>No of rows</th>\n",
       "    </tr>\n",
       "  </thead>\n",
       "  <tbody>\n",
       "    <tr>\n",
       "      <th>PoolQC</th>\n",
       "      <td>0.995205</td>\n",
       "      <td>1453</td>\n",
       "      <td>1460</td>\n",
       "    </tr>\n",
       "    <tr>\n",
       "      <th>MiscFeature</th>\n",
       "      <td>0.963014</td>\n",
       "      <td>1406</td>\n",
       "      <td>1460</td>\n",
       "    </tr>\n",
       "    <tr>\n",
       "      <th>Alley</th>\n",
       "      <td>0.937671</td>\n",
       "      <td>1369</td>\n",
       "      <td>1460</td>\n",
       "    </tr>\n",
       "    <tr>\n",
       "      <th>Fence</th>\n",
       "      <td>0.807534</td>\n",
       "      <td>1179</td>\n",
       "      <td>1460</td>\n",
       "    </tr>\n",
       "    <tr>\n",
       "      <th>FireplaceQu</th>\n",
       "      <td>0.472603</td>\n",
       "      <td>690</td>\n",
       "      <td>1460</td>\n",
       "    </tr>\n",
       "    <tr>\n",
       "      <th>LotFrontage</th>\n",
       "      <td>0.177397</td>\n",
       "      <td>259</td>\n",
       "      <td>1460</td>\n",
       "    </tr>\n",
       "    <tr>\n",
       "      <th>GarageYrBlt</th>\n",
       "      <td>0.055479</td>\n",
       "      <td>81</td>\n",
       "      <td>1460</td>\n",
       "    </tr>\n",
       "    <tr>\n",
       "      <th>GarageCond</th>\n",
       "      <td>0.055479</td>\n",
       "      <td>81</td>\n",
       "      <td>1460</td>\n",
       "    </tr>\n",
       "    <tr>\n",
       "      <th>GarageType</th>\n",
       "      <td>0.055479</td>\n",
       "      <td>81</td>\n",
       "      <td>1460</td>\n",
       "    </tr>\n",
       "    <tr>\n",
       "      <th>GarageFinish</th>\n",
       "      <td>0.055479</td>\n",
       "      <td>81</td>\n",
       "      <td>1460</td>\n",
       "    </tr>\n",
       "    <tr>\n",
       "      <th>GarageQual</th>\n",
       "      <td>0.055479</td>\n",
       "      <td>81</td>\n",
       "      <td>1460</td>\n",
       "    </tr>\n",
       "    <tr>\n",
       "      <th>BsmtFinType2</th>\n",
       "      <td>0.026027</td>\n",
       "      <td>38</td>\n",
       "      <td>1460</td>\n",
       "    </tr>\n",
       "    <tr>\n",
       "      <th>BsmtExposure</th>\n",
       "      <td>0.026027</td>\n",
       "      <td>38</td>\n",
       "      <td>1460</td>\n",
       "    </tr>\n",
       "    <tr>\n",
       "      <th>BsmtQual</th>\n",
       "      <td>0.025342</td>\n",
       "      <td>37</td>\n",
       "      <td>1460</td>\n",
       "    </tr>\n",
       "    <tr>\n",
       "      <th>BsmtCond</th>\n",
       "      <td>0.025342</td>\n",
       "      <td>37</td>\n",
       "      <td>1460</td>\n",
       "    </tr>\n",
       "    <tr>\n",
       "      <th>BsmtFinType1</th>\n",
       "      <td>0.025342</td>\n",
       "      <td>37</td>\n",
       "      <td>1460</td>\n",
       "    </tr>\n",
       "    <tr>\n",
       "      <th>MasVnrArea</th>\n",
       "      <td>0.005479</td>\n",
       "      <td>8</td>\n",
       "      <td>1460</td>\n",
       "    </tr>\n",
       "    <tr>\n",
       "      <th>MasVnrType</th>\n",
       "      <td>0.005479</td>\n",
       "      <td>8</td>\n",
       "      <td>1460</td>\n",
       "    </tr>\n",
       "    <tr>\n",
       "      <th>Electrical</th>\n",
       "      <td>0.000685</td>\n",
       "      <td>1</td>\n",
       "      <td>1460</td>\n",
       "    </tr>\n",
       "  </tbody>\n",
       "</table>\n",
       "</div>"
      ],
      "text/plain": [
       "              Null in %  Null Count  No of rows\n",
       "PoolQC         0.995205        1453        1460\n",
       "MiscFeature    0.963014        1406        1460\n",
       "Alley          0.937671        1369        1460\n",
       "Fence          0.807534        1179        1460\n",
       "FireplaceQu    0.472603         690        1460\n",
       "LotFrontage    0.177397         259        1460\n",
       "GarageYrBlt    0.055479          81        1460\n",
       "GarageCond     0.055479          81        1460\n",
       "GarageType     0.055479          81        1460\n",
       "GarageFinish   0.055479          81        1460\n",
       "GarageQual     0.055479          81        1460\n",
       "BsmtFinType2   0.026027          38        1460\n",
       "BsmtExposure   0.026027          38        1460\n",
       "BsmtQual       0.025342          37        1460\n",
       "BsmtCond       0.025342          37        1460\n",
       "BsmtFinType1   0.025342          37        1460\n",
       "MasVnrArea     0.005479           8        1460\n",
       "MasVnrType     0.005479           8        1460\n",
       "Electrical     0.000685           1        1460"
      ]
     },
     "execution_count": 13,
     "metadata": {},
     "output_type": "execute_result"
    }
   ],
   "source": [
    "null_df.head(19)"
   ]
  },
  {
   "cell_type": "markdown",
   "metadata": {},
   "source": [
    "We could see for the top 6 elements more than 15 % of the data points are missing ,for the first 4 variables 80 %  \n",
    "or more data is missing "
   ]
  },
  {
   "cell_type": "markdown",
   "metadata": {},
   "source": [
    "1)There are only 7 non null values for PoolQC,since data present is very low and the column itself is insignificant  \n",
    "2)We could drop Misc feature,Alley,Fence,FirePlaceQu,LotFrontage since not enough data points"
   ]
  },
  {
   "attachments": {},
   "cell_type": "markdown",
   "metadata": {},
   "source": [
    "Below features are used for further analysis  \n",
    "<b>OverallCond\n",
    "BsmtCond\n",
    "TotalBsmtSF\n",
    "GarageArea\n",
    "GarageQual\n",
    "Fireplaces\n",
    "HalfBath\n",
    "FullBath\n",
    "BedroomAbvGr\n",
    "HeatingQC\n",
    "CentralAir\n",
    "Electrical\n",
    "GrLivArea\n",
    "CentralAir\n",
    "OpenPorchSF\n",
    "EnclosedPorch\n",
    "3SsnPorch\n",
    "ScreenPorch\n",
    "PavedDrive\n",
    "LotShape\n",
    "LotArea\n",
    "WoodDeckSF\n",
    "PoolArea\n",
    "RoofStyle\n",
    "Foundation\n",
    "Utilities\n",
    "MSZoning\n",
    "MSSubClass\n",
    "Condition1\n",
    "Street\n",
    "SaleType\n",
    "SaleCondition\n",
    "SalePrice</b>  \n",
    "Total count of 33 variables,Among them we will feature engineer again.Columns are dropped based on following factors:  \n",
    "1)Insufficient data/lots of null values  \n",
    "2)Many columns represent the parameter like condition,quality...etc  "
   ]
  },
  {
   "cell_type": "code",
   "execution_count": 15,
   "metadata": {},
   "outputs": [],
   "source": [
    "train_bkup=train_df.copy()"
   ]
  },
  {
   "cell_type": "code",
   "execution_count": 14,
   "metadata": {},
   "outputs": [],
   "source": [
    "test_bkup=test_df.copy()"
   ]
  },
  {
   "cell_type": "code",
   "execution_count": 85,
   "metadata": {},
   "outputs": [],
   "source": [
    "#test_df=test_bkup.copy()"
   ]
  },
  {
   "cell_type": "code",
   "execution_count": 6,
   "metadata": {},
   "outputs": [],
   "source": [
    "train_df=train_df.loc[:,['OverallCond',\n",
    "'BsmtCond',\n",
    "'TotalBsmtSF',\n",
    "'GarageArea',\n",
    "'GarageQual',\n",
    "'Fireplaces',\n",
    "'HalfBath',\n",
    "'FullBath',\n",
    "'BedroomAbvGr',\n",
    "'HeatingQC',\n",
    "'CentralAir',\n",
    "'Electrical',\n",
    "'GrLivArea',\n",
    "'OpenPorchSF',\n",
    "'EnclosedPorch',\n",
    "'3SsnPorch',\n",
    "'ScreenPorch',\n",
    "'PavedDrive',\n",
    "'LotShape',\n",
    "'LotArea',\n",
    "'WoodDeckSF',\n",
    "'PoolArea',\n",
    "'RoofStyle',\n",
    "'Foundation',\n",
    "'Utilities',\n",
    "'MSZoning',\n",
    "'MSSubClass',\n",
    "'Condition1',\n",
    "'Street',\n",
    "'SaleType',\n",
    "'SaleCondition',\n",
    "'SalePrice']]"
   ]
  },
  {
   "cell_type": "code",
   "execution_count": 20,
   "metadata": {},
   "outputs": [],
   "source": [
    "test_df=test_df.loc[:,['OverallCond',\n",
    "'BsmtCond',\n",
    "'TotalBsmtSF',\n",
    "'GarageArea',\n",
    "'GarageQual',\n",
    "'Fireplaces',\n",
    "'HalfBath',\n",
    "'FullBath',\n",
    "'BedroomAbvGr',\n",
    "'HeatingQC',\n",
    "'CentralAir',\n",
    "'Electrical',\n",
    "'GrLivArea',\n",
    "'OpenPorchSF',\n",
    "'EnclosedPorch',\n",
    "'3SsnPorch',\n",
    "'ScreenPorch',\n",
    "'PavedDrive',\n",
    "'LotShape',\n",
    "'LotArea',\n",
    "'WoodDeckSF',\n",
    "'PoolArea',\n",
    "'RoofStyle',\n",
    "'Foundation',\n",
    "'Utilities',\n",
    "'MSZoning',\n",
    "'MSSubClass',\n",
    "'Condition1',\n",
    "'Street',\n",
    "'SaleType',\n",
    "'SaleCondition']]"
   ]
  },
  {
   "cell_type": "code",
   "execution_count": 8,
   "metadata": {},
   "outputs": [
    {
     "data": {
      "text/plain": [
       "TA    1295\n",
       "Fa      59\n",
       "Gd      57\n",
       "Po       3\n",
       "Name: BsmtCond, dtype: int64"
      ]
     },
     "execution_count": 8,
     "metadata": {},
     "output_type": "execute_result"
    }
   ],
   "source": [
    "test_df['BsmtCond'].value_counts()"
   ]
  },
  {
   "cell_type": "code",
   "execution_count": 21,
   "metadata": {},
   "outputs": [],
   "source": [
    "#train_df.drop('BsmtCond',axis=1,inplace=True)\n",
    "test_df.drop('BsmtCond',axis=1,inplace=True)"
   ]
  },
  {
   "cell_type": "code",
   "execution_count": 10,
   "metadata": {},
   "outputs": [
    {
     "name": "stdout",
     "output_type": "stream",
     "text": [
      "<class 'pandas.core.frame.DataFrame'>\n",
      "RangeIndex: 1459 entries, 0 to 1458\n",
      "Data columns (total 30 columns):\n",
      " #   Column         Non-Null Count  Dtype  \n",
      "---  ------         --------------  -----  \n",
      " 0   OverallCond    1459 non-null   int64  \n",
      " 1   TotalBsmtSF    1458 non-null   float64\n",
      " 2   GarageArea     1458 non-null   float64\n",
      " 3   GarageQual     1381 non-null   object \n",
      " 4   Fireplaces     1459 non-null   int64  \n",
      " 5   HalfBath       1459 non-null   int64  \n",
      " 6   FullBath       1459 non-null   int64  \n",
      " 7   BedroomAbvGr   1459 non-null   int64  \n",
      " 8   HeatingQC      1459 non-null   object \n",
      " 9   CentralAir     1459 non-null   object \n",
      " 10  Electrical     1459 non-null   object \n",
      " 11  GrLivArea      1459 non-null   int64  \n",
      " 12  OpenPorchSF    1459 non-null   int64  \n",
      " 13  EnclosedPorch  1459 non-null   int64  \n",
      " 14  3SsnPorch      1459 non-null   int64  \n",
      " 15  ScreenPorch    1459 non-null   int64  \n",
      " 16  PavedDrive     1459 non-null   object \n",
      " 17  LotShape       1459 non-null   object \n",
      " 18  LotArea        1459 non-null   int64  \n",
      " 19  WoodDeckSF     1459 non-null   int64  \n",
      " 20  PoolArea       1459 non-null   int64  \n",
      " 21  RoofStyle      1459 non-null   object \n",
      " 22  Foundation     1459 non-null   object \n",
      " 23  Utilities      1457 non-null   object \n",
      " 24  MSZoning       1455 non-null   object \n",
      " 25  MSSubClass     1459 non-null   int64  \n",
      " 26  Condition1     1459 non-null   object \n",
      " 27  Street         1459 non-null   object \n",
      " 28  SaleType       1458 non-null   object \n",
      " 29  SaleCondition  1459 non-null   object \n",
      "dtypes: float64(2), int64(14), object(14)\n",
      "memory usage: 342.1+ KB\n"
     ]
    }
   ],
   "source": [
    "test_df.info()"
   ]
  },
  {
   "cell_type": "code",
   "execution_count": 11,
   "metadata": {},
   "outputs": [
    {
     "name": "stdout",
     "output_type": "stream",
     "text": [
      "<class 'pandas.core.frame.DataFrame'>\n",
      "RangeIndex: 1460 entries, 0 to 1459\n",
      "Data columns (total 31 columns):\n",
      " #   Column         Non-Null Count  Dtype \n",
      "---  ------         --------------  ----- \n",
      " 0   OverallCond    1460 non-null   int64 \n",
      " 1   TotalBsmtSF    1460 non-null   int64 \n",
      " 2   GarageArea     1460 non-null   int64 \n",
      " 3   GarageQual     1379 non-null   object\n",
      " 4   Fireplaces     1460 non-null   int64 \n",
      " 5   HalfBath       1460 non-null   int64 \n",
      " 6   FullBath       1460 non-null   int64 \n",
      " 7   BedroomAbvGr   1460 non-null   int64 \n",
      " 8   HeatingQC      1460 non-null   object\n",
      " 9   CentralAir     1460 non-null   object\n",
      " 10  Electrical     1459 non-null   object\n",
      " 11  GrLivArea      1460 non-null   int64 \n",
      " 12  OpenPorchSF    1460 non-null   int64 \n",
      " 13  EnclosedPorch  1460 non-null   int64 \n",
      " 14  3SsnPorch      1460 non-null   int64 \n",
      " 15  ScreenPorch    1460 non-null   int64 \n",
      " 16  PavedDrive     1460 non-null   object\n",
      " 17  LotShape       1460 non-null   object\n",
      " 18  LotArea        1460 non-null   int64 \n",
      " 19  WoodDeckSF     1460 non-null   int64 \n",
      " 20  PoolArea       1460 non-null   int64 \n",
      " 21  RoofStyle      1460 non-null   object\n",
      " 22  Foundation     1460 non-null   object\n",
      " 23  Utilities      1460 non-null   object\n",
      " 24  MSZoning       1460 non-null   object\n",
      " 25  MSSubClass     1460 non-null   int64 \n",
      " 26  Condition1     1460 non-null   object\n",
      " 27  Street         1460 non-null   object\n",
      " 28  SaleType       1460 non-null   object\n",
      " 29  SaleCondition  1460 non-null   object\n",
      " 30  SalePrice      1460 non-null   int64 \n",
      "dtypes: int64(17), object(14)\n",
      "memory usage: 353.7+ KB\n"
     ]
    }
   ],
   "source": [
    "train_df.info()"
   ]
  },
  {
   "cell_type": "code",
   "execution_count": 22,
   "metadata": {},
   "outputs": [],
   "source": [
    "for features in test_df.columns:\n",
    "    test_df.loc[test_df[features].isnull(),features]=test_df[features].mode()"
   ]
  },
  {
   "cell_type": "code",
   "execution_count": 24,
   "metadata": {},
   "outputs": [],
   "source": [
    "#train_df.drop('GarageQual',axis=1,inplace=True)\n",
    "test_df.drop('GarageQual',axis=1,inplace=True)"
   ]
  },
  {
   "cell_type": "code",
   "execution_count": 25,
   "metadata": {},
   "outputs": [],
   "source": [
    "#train_df.drop('Utilities',axis=1,inplace=True)\n",
    "test_df.drop('Utilities',axis=1,inplace=True)"
   ]
  },
  {
   "cell_type": "code",
   "execution_count": 26,
   "metadata": {},
   "outputs": [],
   "source": [
    "mode=test_df['MSZoning'].mode().values[0]\n",
    "test_df['MSZoning'].fillna(value=mode,inplace=True)"
   ]
  },
  {
   "cell_type": "code",
   "execution_count": 175,
   "metadata": {},
   "outputs": [],
   "source": [
    "mode=test_df['SaleType'].mode().values[0]\n",
    "test_df['SaleType'].fillna(value=mode,inplace=True)"
   ]
  },
  {
   "cell_type": "code",
   "execution_count": 30,
   "metadata": {},
   "outputs": [],
   "source": [
    "mode=test_df['TotalBsmtSF'].mode().values[0]\n",
    "test_df['TotalBsmtSF'].fillna(value=mode,inplace=True)\n",
    "mode=test_df['GarageArea'].mode().values[0]\n",
    "test_df['GarageArea'].fillna(value=mode,inplace=True)"
   ]
  },
  {
   "cell_type": "code",
   "execution_count": 200,
   "metadata": {},
   "outputs": [
    {
     "name": "stdout",
     "output_type": "stream",
     "text": [
      "<class 'pandas.core.frame.DataFrame'>\n",
      "RangeIndex: 1459 entries, 0 to 1458\n",
      "Data columns (total 23 columns):\n",
      " #   Column         Non-Null Count  Dtype  \n",
      "---  ------         --------------  -----  \n",
      " 0   OverallCond    1459 non-null   int64  \n",
      " 1   Basement       1459 non-null   float64\n",
      " 2   Garage         1459 non-null   float64\n",
      " 3   Fireplaces     1459 non-null   int64  \n",
      " 4   Bathrooms      1459 non-null   int64  \n",
      " 5   BedroomAbvGr   1459 non-null   int64  \n",
      " 6   HeatingQC      1459 non-null   int64  \n",
      " 7   CentralAir     1459 non-null   int64  \n",
      " 8   Electrical     1459 non-null   int64  \n",
      " 9   GrLivArea      1459 non-null   int64  \n",
      " 10  Porch          1459 non-null   int64  \n",
      " 11  PavedQual      1459 non-null   int64  \n",
      " 12  LotQual        1459 non-null   int64  \n",
      " 13  Pool           1459 non-null   int64  \n",
      " 14  RoofStyle      1459 non-null   object \n",
      " 15  Foundation     1459 non-null   int64  \n",
      " 16  MSZoning       1459 non-null   int64  \n",
      " 17  MSSubClass     1459 non-null   int64  \n",
      " 18  Condition1     1459 non-null   int64  \n",
      " 19  Street         1459 non-null   int64  \n",
      " 20  SaleType       1459 non-null   int64  \n",
      " 21  SaleCondition  1459 non-null   int64  \n",
      " 22  Id             1459 non-null   int64  \n",
      "dtypes: float64(2), int64(20), object(1)\n",
      "memory usage: 262.3+ KB\n"
     ]
    }
   ],
   "source": [
    "test_df.info()"
   ]
  },
  {
   "cell_type": "code",
   "execution_count": 201,
   "metadata": {},
   "outputs": [
    {
     "name": "stdout",
     "output_type": "stream",
     "text": [
      "<class 'pandas.core.frame.DataFrame'>\n",
      "RangeIndex: 1460 entries, 0 to 1459\n",
      "Data columns (total 24 columns):\n",
      " #   Column         Non-Null Count  Dtype \n",
      "---  ------         --------------  ----- \n",
      " 0   OverallCond    1460 non-null   int64 \n",
      " 1   Basement       1460 non-null   int64 \n",
      " 2   Garage         1460 non-null   int64 \n",
      " 3   Fireplaces     1460 non-null   int64 \n",
      " 4   Bathrooms      1460 non-null   int64 \n",
      " 5   BedroomAbvGr   1460 non-null   int64 \n",
      " 6   HeatingQC      1460 non-null   int64 \n",
      " 7   CentralAir     1460 non-null   int64 \n",
      " 8   Electrical     1460 non-null   int64 \n",
      " 9   GrLivArea      1460 non-null   int64 \n",
      " 10  Porch          1460 non-null   int64 \n",
      " 11  PavedQual      1460 non-null   int64 \n",
      " 12  LotQual        1460 non-null   int64 \n",
      " 13  Pool           1460 non-null   int64 \n",
      " 14  RoofStyle      1460 non-null   object\n",
      " 15  Foundation     1460 non-null   int64 \n",
      " 16  MSZoning       1460 non-null   int64 \n",
      " 17  MSSubClass     1460 non-null   int64 \n",
      " 18  Condition1     1460 non-null   int64 \n",
      " 19  Street         1460 non-null   int64 \n",
      " 20  SaleType       1460 non-null   int64 \n",
      " 21  SaleCondition  1460 non-null   int64 \n",
      " 22  SalePrice      1460 non-null   int64 \n",
      " 23  Id             1460 non-null   int64 \n",
      "dtypes: int64(23), object(1)\n",
      "memory usage: 273.9+ KB\n"
     ]
    }
   ],
   "source": [
    "train_df.info()"
   ]
  },
  {
   "cell_type": "code",
   "execution_count": 44,
   "metadata": {},
   "outputs": [],
   "source": [
    "mode=train_df['Electrical'].mode()[0]\n",
    "train_df['Electrical'].fillna(mode,inplace=True)"
   ]
  },
  {
   "cell_type": "code",
   "execution_count": 33,
   "metadata": {},
   "outputs": [],
   "source": [
    "train_df.loc[train_df['TotalBsmtSF']==0,'TotalBsmtSF']=0\n",
    "train_df.loc[train_df['TotalBsmtSF']>0,'TotalBsmtSF']=1\n",
    "test_df.loc[test_df['TotalBsmtSF']==0,'TotalBsmtSF']=0\n",
    "test_df.loc[test_df['TotalBsmtSF']>0,'TotalBsmtSF']=1"
   ]
  },
  {
   "cell_type": "code",
   "execution_count": 34,
   "metadata": {},
   "outputs": [],
   "source": [
    "train_df.rename({'TotalBsmtSF':'Basement'},axis=1,inplace=True)\n",
    "test_df.rename({'TotalBsmtSF':'Basement'},axis=1,inplace=True)"
   ]
  },
  {
   "cell_type": "code",
   "execution_count": 37,
   "metadata": {},
   "outputs": [],
   "source": [
    "train_df.loc[train_df['GarageArea']==0,'GarageArea']=0\n",
    "train_df.loc[train_df['GarageArea']>0,'GarageArea']=1\n",
    "test_df.loc[test_df['GarageArea']==0,'GarageArea']=0\n",
    "test_df.loc[test_df['GarageArea']>0,'GarageArea']=1\n",
    "train_df.rename({'GarageArea':'Garage'},axis=1,inplace=True)\n",
    "test_df.rename({'GarageArea':'Garage'},axis=1,inplace=True)"
   ]
  },
  {
   "cell_type": "code",
   "execution_count": 38,
   "metadata": {},
   "outputs": [],
   "source": [
    "train_df.loc[train_df['Fireplaces']==0,'Fireplaces']=0\n",
    "train_df.loc[train_df['Fireplaces']>0,'Fireplaces']=1\n",
    "test_df.loc[test_df['Fireplaces']==0,'Fireplaces']=0\n",
    "test_df.loc[test_df['Fireplaces']>0,'Fireplaces']=1"
   ]
  },
  {
   "cell_type": "code",
   "execution_count": 39,
   "metadata": {},
   "outputs": [],
   "source": [
    "train_df['HalfBath']=train_df['HalfBath']+train_df['FullBath']\n",
    "test_df['HalfBath']=test_df['HalfBath']+test_df['FullBath']\n",
    "train_df.drop('FullBath',axis=1,inplace=True)\n",
    "test_df.drop('FullBath',axis=1,inplace=True)\n",
    "train_df.rename({'HalfBath':'Bathrooms'},axis=1,inplace=True)\n",
    "test_df.rename({'HalfBath':'Bathrooms'},axis=1,inplace=True)"
   ]
  },
  {
   "cell_type": "code",
   "execution_count": 46,
   "metadata": {},
   "outputs": [],
   "source": [
    "train_df.loc[train_df['HeatingQC']=='Po','HeatingQC']=0\n",
    "train_df.loc[train_df['HeatingQC']=='Fa','HeatingQC']=1\n",
    "train_df.loc[train_df['HeatingQC']=='TA','HeatingQC']=2\n",
    "train_df.loc[train_df['HeatingQC']=='Gd','HeatingQC']=3\n",
    "train_df.loc[train_df['HeatingQC']=='Ex','HeatingQC']=4\n",
    "test_df.loc[test_df['HeatingQC']=='Po','HeatingQC']=0\n",
    "test_df.loc[test_df['HeatingQC']=='Fa','HeatingQC']=1\n",
    "test_df.loc[test_df['HeatingQC']=='TA','HeatingQC']=2\n",
    "test_df.loc[test_df['HeatingQC']=='Gd','HeatingQC']=3\n",
    "test_df.loc[test_df['HeatingQC']=='Ex','HeatingQC']=4\n",
    "test_df['HeatingQC']=test_df['HeatingQC'].astype('int64')\n",
    "train_df['HeatingQC']=train_df['HeatingQC'].astype('int64')"
   ]
  },
  {
   "cell_type": "code",
   "execution_count": 49,
   "metadata": {},
   "outputs": [],
   "source": [
    "train_df.loc[train_df['CentralAir']=='N','CentralAir']=0\n",
    "train_df.loc[train_df['CentralAir']=='Y','CentralAir']=1\n",
    "test_df.loc[test_df['CentralAir']=='N','CentralAir']=0\n",
    "test_df.loc[test_df['CentralAir']=='Y','CentralAir']=1\n",
    "test_df['CentralAir']=test_df['CentralAir'].astype('int64')\n",
    "train_df['CentralAir']=train_df['CentralAir'].astype('int64')"
   ]
  },
  {
   "cell_type": "code",
   "execution_count": 63,
   "metadata": {},
   "outputs": [],
   "source": [
    "train_df.loc[train_df['Electrical']== 'SBrkr','Electrical']=1\n",
    "train_df.loc[train_df['Electrical'] != 'SBrkr','Electrical']=0\n",
    "test_df.loc[test_df['Electrical']== 'SBrkr','Electrical']=1\n",
    "test_df.loc[test_df['Electrical'] != 'SBrkr','Electrical']=0\n",
    "test_df['Electrical']=test_df['Electrical'].astype('int64')\n",
    "train_df['Electrical']=train_df['Electrical'].astype('int64')"
   ]
  },
  {
   "cell_type": "code",
   "execution_count": 66,
   "metadata": {},
   "outputs": [],
   "source": [
    "train_df['OpenPorchSF']=train_df['3SsnPorch']+train_df['ScreenPorch']\n",
    "test_df['OpenPorchSF']=test_df['3SsnPorch']+test_df['ScreenPorch']\n",
    "train_df.loc[train_df['OpenPorchSF']>0,'OpenPorchSF']=1\n",
    "train_df.loc[train_df['OpenPorchSF']==0,'OpenPorchSF']=0\n",
    "test_df.loc[test_df['OpenPorchSF']>0,'OpenPorchSF']=1\n",
    "test_df.loc[test_df['OpenPorchSF']==0,'OpenPorchSF']=0\n",
    "train_df.rename({'OpenPorchSF':'Porch'},axis=1,inplace=True)\n",
    "test_df.rename({'OpenPorchSF':'Porch'},axis=1,inplace=True)"
   ]
  },
  {
   "cell_type": "code",
   "execution_count": 70,
   "metadata": {},
   "outputs": [],
   "source": [
    "train_df['Porch']=train_df['EnclosedPorch']+train_df['Porch']\n",
    "test_df['Porch']=test_df['EnclosedPorch']+test_df['Porch']\n",
    "train_df.loc[train_df['Porch']>0,'Porch']=1\n",
    "train_df.loc[train_df['Porch']==0,'Porch']=0\n",
    "test_df.loc[test_df['Porch']>0,'Porch']=1\n",
    "test_df.loc[test_df['Porch']==0,'Porch']=0"
   ]
  },
  {
   "cell_type": "code",
   "execution_count": 67,
   "metadata": {},
   "outputs": [],
   "source": [
    "train_df.drop(['3SsnPorch','ScreenPorch'],axis=1,inplace=True)\n",
    "test_df.drop(['3SsnPorch','ScreenPorch'],axis=1,inplace=True)"
   ]
  },
  {
   "cell_type": "code",
   "execution_count": 71,
   "metadata": {},
   "outputs": [],
   "source": [
    "train_df.drop(['EnclosedPorch'],axis=1,inplace=True)\n",
    "test_df.drop(['EnclosedPorch'],axis=1,inplace=True)"
   ]
  },
  {
   "cell_type": "code",
   "execution_count": 76,
   "metadata": {},
   "outputs": [],
   "source": [
    "train_df['Id']=train_bkup['Id']\n",
    "test_df['Id']=test_bkup['Id']"
   ]
  },
  {
   "cell_type": "code",
   "execution_count": 80,
   "metadata": {},
   "outputs": [],
   "source": [
    "train_df.loc[(train_df['LotArea'] > 5000) & (train_df['LotShape']=='Regular'),'LotArea']=1\n",
    "train_df.loc[(train_df['LotArea'] < 5000) & (train_df['LotShape']!='Regular'),'LotArea']=0\n",
    "test_df.loc[(test_df['LotArea'] > 5000) & (test_df['LotShape']=='Regular'),'LotArea']=1\n",
    "test_df.loc[(test_df['LotArea'] < 5000) & (test_df['LotShape']!='Regular'),'LotArea']=0\n",
    "train_df.drop('LotShape',axis=1,inplace=True)\n",
    "test_df.drop('LotShape',axis=1,inplace=True)\n",
    "train_df.rename({'LotArea':'LotQual'},axis=1,inplace=True)\n",
    "test_df.rename({'LotArea':'LotQual'},axis=1,inplace=True)"
   ]
  },
  {
   "cell_type": "code",
   "execution_count": 83,
   "metadata": {},
   "outputs": [],
   "source": [
    "train_df.loc[train_df['PavedDrive']=='Y','PavedDrive']=1\n",
    "train_df.loc[train_df['PavedDrive']!='Y','PavedDrive']=0\n",
    "test_df.loc[train_df['PavedDrive']=='Y','PavedDrive']=1\n",
    "test_df.loc[train_df['PavedDrive']!='Y','PavedDrive']=0\n",
    "train_df.rename({'PavedDrive':'PavedQual'},axis=1,inplace=True)"
   ]
  },
  {
   "cell_type": "code",
   "execution_count": 85,
   "metadata": {},
   "outputs": [],
   "source": [
    "test_df.rename({'PavedDrive':'PavedQual'},axis=1,inplace=True)"
   ]
  },
  {
   "cell_type": "code",
   "execution_count": 88,
   "metadata": {},
   "outputs": [],
   "source": [
    "test_df['PavedQual']=test_df['PavedQual'].astype('int64')\n",
    "train_df['PavedQual']=train_df['PavedQual'].astype('int64')"
   ]
  },
  {
   "cell_type": "code",
   "execution_count": 90,
   "metadata": {},
   "outputs": [],
   "source": [
    "train_df.drop('WoodDeckSF',axis=1,inplace=True)\n",
    "test_df.drop('WoodDeckSF',axis=1,inplace=True)"
   ]
  },
  {
   "cell_type": "code",
   "execution_count": 93,
   "metadata": {},
   "outputs": [],
   "source": [
    "train_df.loc[train_df['PoolArea']==0,'PoolArea']=0\n",
    "train_df.loc[train_df['PoolArea']>0,'PoolArea']=1\n",
    "test_df.loc[test_df['PoolArea']==0,'PoolArea']=0\n",
    "test_df.loc[test_df['PoolArea']>0,'PoolArea']=1\n",
    "train_df.rename({'PoolArea':'Pool'},axis=1,inplace=True)\n",
    "test_df.rename({'PoolArea':'Pool'},axis=1,inplace=True)"
   ]
  },
  {
   "cell_type": "code",
   "execution_count": 104,
   "metadata": {},
   "outputs": [],
   "source": [
    "train_df.loc[train_df['MSZoning']=='A','MSZoning']=0\n",
    "train_df.loc[train_df['MSZoning']=='I','MSZoning']=1\n",
    "train_df.loc[train_df['MSZoning']=='FV','MSZoning']=2\n",
    "train_df.loc[train_df['MSZoning']=='C','MSZoning']=3\n",
    "train_df.loc[train_df['MSZoning'].str.startswith('R')==True,'MSZoning']=4"
   ]
  },
  {
   "cell_type": "code",
   "execution_count": 115,
   "metadata": {},
   "outputs": [],
   "source": [
    "train_df.loc[train_df['MSZoning']=='C (all)','MSZoning']=3"
   ]
  },
  {
   "cell_type": "code",
   "execution_count": 105,
   "metadata": {},
   "outputs": [],
   "source": [
    "test_df.loc[test_df['MSZoning']=='A','MSZoning']=0\n",
    "test_df.loc[test_df['MSZoning']=='I','MSZoning']=1\n",
    "test_df.loc[test_df['MSZoning']=='FV','MSZoning']=2\n",
    "test_df.loc[test_df['MSZoning']=='C (all) ','MSZoning']=3\n",
    "test_df.loc[test_df['MSZoning'].str.startswith('R')==True,'MSZoning']=4"
   ]
  },
  {
   "cell_type": "code",
   "execution_count": 113,
   "metadata": {},
   "outputs": [],
   "source": [
    "test_df.loc[test_df['MSZoning']=='C (all)','MSZoning']=3"
   ]
  },
  {
   "cell_type": "code",
   "execution_count": 116,
   "metadata": {},
   "outputs": [
    {
     "data": {
      "text/plain": [
       "4    1385\n",
       "2      65\n",
       "3      10\n",
       "Name: MSZoning, dtype: int64"
      ]
     },
     "execution_count": 116,
     "metadata": {},
     "output_type": "execute_result"
    }
   ],
   "source": [
    "train_df['MSZoning'].value_counts()"
   ]
  },
  {
   "cell_type": "code",
   "execution_count": 117,
   "metadata": {},
   "outputs": [],
   "source": [
    "train_df['MSZoning']=train_df['MSZoning'].astype('int64')\n",
    "test_df['MSZoning']=test_df['MSZoning'].astype('int64')"
   ]
  },
  {
   "cell_type": "code",
   "execution_count": 106,
   "metadata": {},
   "outputs": [],
   "source": [
    "train_df.loc[train_df['Condition1']=='Artery','Condition1']=4\n",
    "train_df.loc[train_df['Condition1']=='Feedr','Condition1']=3\n",
    "train_df.loc[train_df['Condition1']=='Norm','Condition1']=2\n",
    "train_df.loc[train_df['Condition1'].str.startswith('P')==True,'Condition1']=0\n",
    "train_df.loc[train_df['Condition1'].str.startswith('R')==True,'Condition1']=1\n",
    "test_df.loc[test_df['Condition1']=='Artery','Condition1']=4\n",
    "test_df.loc[test_df['Condition1']=='Feedr','Condition1']=3\n",
    "test_df.loc[test_df['Condition1']=='Norm','Condition1']=2\n",
    "test_df.loc[test_df['Condition1'].str.startswith('P')==True,'Condition1']=0\n",
    "test_df.loc[test_df['Condition1'].str.startswith('R')==True,'Condition1']=1"
   ]
  },
  {
   "cell_type": "code",
   "execution_count": 118,
   "metadata": {},
   "outputs": [],
   "source": [
    "train_df['Condition1']=train_df['Condition1'].astype('int64')\n",
    "test_df['Condition1']=test_df['Condition1'].astype('int64')"
   ]
  },
  {
   "cell_type": "code",
   "execution_count": 122,
   "metadata": {},
   "outputs": [],
   "source": [
    "train_df.loc[train_df['Street']=='Grvl','Street']=0\n",
    "train_df.loc[train_df['Street']=='Pave','Street']=1\n",
    "test_df.loc[test_df['Street']=='Grvl','Street']=0\n",
    "test_df.loc[test_df['Street']=='Pave','Street']=1"
   ]
  },
  {
   "cell_type": "code",
   "execution_count": 123,
   "metadata": {},
   "outputs": [],
   "source": [
    "train_df['Street']=train_df['Street'].astype('int64')\n",
    "test_df['Street']=test_df['Street'].astype('int64')"
   ]
  },
  {
   "cell_type": "code",
   "execution_count": 142,
   "metadata": {},
   "outputs": [],
   "source": [
    "train_df.loc[(train_df['SaleType']=='WD') | (train_df['SaleType']=='CWD') | (train_df['SaleType']=='VWD'),'SaleType']=0"
   ]
  },
  {
   "cell_type": "code",
   "execution_count": 128,
   "metadata": {},
   "outputs": [],
   "source": [
    "train_df.loc[train_df['SaleType']=='New','SaleType']=1"
   ]
  },
  {
   "cell_type": "code",
   "execution_count": 129,
   "metadata": {},
   "outputs": [],
   "source": [
    "train_df.loc[train_df['SaleType']=='COD','SaleType']=2"
   ]
  },
  {
   "cell_type": "code",
   "execution_count": 130,
   "metadata": {},
   "outputs": [],
   "source": [
    "train_df.loc[train_df['SaleType'].str.startswith('C')==True,'SaleType']=3\n",
    "train_df.loc[train_df['SaleType']=='Oth','SaleType']=4"
   ]
  },
  {
   "cell_type": "code",
   "execution_count": 174,
   "metadata": {},
   "outputs": [],
   "source": [
    "#test_df['SaleType']=test_bkup['SaleType']"
   ]
  },
  {
   "cell_type": "code",
   "execution_count": 176,
   "metadata": {},
   "outputs": [],
   "source": [
    "test_df.loc[(test_df['SaleType']=='WD') | (test_df['SaleType']=='CWD') | (test_df['SaleType']=='VWD'),'SaleType']=0"
   ]
  },
  {
   "cell_type": "code",
   "execution_count": 177,
   "metadata": {},
   "outputs": [],
   "source": [
    "test_df.loc[test_df['SaleType']=='New','SaleType']=1"
   ]
  },
  {
   "cell_type": "code",
   "execution_count": 178,
   "metadata": {},
   "outputs": [],
   "source": [
    "test_df.loc[test_df['SaleType']=='COD','SaleType']=2"
   ]
  },
  {
   "cell_type": "code",
   "execution_count": 179,
   "metadata": {},
   "outputs": [],
   "source": [
    "test_df.loc[test_df['SaleType'].str.startswith('C')==True,'SaleType']=3\n",
    "test_df.loc[test_df['SaleType']=='Oth','SaleType']=4"
   ]
  },
  {
   "cell_type": "code",
   "execution_count": 180,
   "metadata": {},
   "outputs": [
    {
     "data": {
      "text/plain": [
       "0    1267\n",
       "1     117\n",
       "2      44\n",
       "3      27\n",
       "4       4\n",
       "Name: SaleType, dtype: int64"
      ]
     },
     "execution_count": 180,
     "metadata": {},
     "output_type": "execute_result"
    }
   ],
   "source": [
    "test_df['SaleType'].value_counts()"
   ]
  },
  {
   "cell_type": "code",
   "execution_count": 181,
   "metadata": {},
   "outputs": [],
   "source": [
    "train_df['SaleType']=train_df['SaleType'].astype('int64')\n",
    "test_df['SaleType']=test_df['SaleType'].astype('int64')"
   ]
  },
  {
   "cell_type": "code",
   "execution_count": 188,
   "metadata": {},
   "outputs": [],
   "source": [
    "train_df.loc[train_df['SaleCondition']=='Abnorml','SaleCondition']=0\n",
    "train_df.loc[train_df['SaleCondition']=='Partial','SaleCondition']=1\n",
    "train_df.loc[train_df['SaleCondition']=='AdjLand','SaleCondition']=2\n",
    "train_df.loc[train_df['SaleCondition']=='Alloca','SaleCondition']=3\n",
    "train_df.loc[train_df['SaleCondition']=='Family','SaleCondition']=4\n",
    "train_df.loc[train_df['SaleCondition']=='Normal','SaleCondition']=5"
   ]
  },
  {
   "cell_type": "code",
   "execution_count": 189,
   "metadata": {},
   "outputs": [],
   "source": [
    "test_df.loc[test_df['SaleCondition']=='Abnorml','SaleCondition']=0\n",
    "test_df.loc[test_df['SaleCondition']=='Partial','SaleCondition']=1\n",
    "test_df.loc[test_df['SaleCondition']=='AdjLand','SaleCondition']=2\n",
    "test_df.loc[test_df['SaleCondition']=='Alloca','SaleCondition']=3\n",
    "test_df.loc[test_df['SaleCondition']=='Family','SaleCondition']=4\n",
    "test_df.loc[test_df['SaleCondition']=='Normal','SaleCondition']=5"
   ]
  },
  {
   "cell_type": "code",
   "execution_count": 190,
   "metadata": {},
   "outputs": [
    {
     "data": {
      "text/plain": [
       "5    1198\n",
       "1     125\n",
       "0     101\n",
       "4      20\n",
       "3      12\n",
       "2       4\n",
       "Name: SaleCondition, dtype: int64"
      ]
     },
     "execution_count": 190,
     "metadata": {},
     "output_type": "execute_result"
    }
   ],
   "source": [
    "train_df['SaleCondition'].value_counts()"
   ]
  },
  {
   "cell_type": "code",
   "execution_count": 191,
   "metadata": {},
   "outputs": [],
   "source": [
    "train_df['SaleCondition']=train_df['SaleCondition'].astype('int64')\n",
    "test_df['SaleCondition']=test_df['SaleCondition'].astype('int64')"
   ]
  },
  {
   "cell_type": "code",
   "execution_count": 197,
   "metadata": {},
   "outputs": [],
   "source": [
    "train_df.loc[train_df['Foundation']=='CBlock','Foundation']=0\n",
    "train_df.loc[train_df['Foundation']=='Wood','Foundation']=1\n",
    "train_df.loc[train_df['Foundation']=='Slab','Foundation']=2\n",
    "train_df.loc[train_df['Foundation']=='BrkTil','Foundation']=3\n",
    "train_df.loc[train_df['Foundation']=='Stone','Foundation']=4\n",
    "train_df.loc[train_df['Foundation']=='PConc','Foundation']=5"
   ]
  },
  {
   "cell_type": "code",
   "execution_count": 198,
   "metadata": {},
   "outputs": [],
   "source": [
    "test_df.loc[test_df['Foundation']=='CBlock','Foundation']=0\n",
    "test_df.loc[test_df['Foundation']=='Wood','Foundation']=1\n",
    "test_df.loc[test_df['Foundation']=='Slab','Foundation']=2\n",
    "test_df.loc[test_df['Foundation']=='BrkTil','Foundation']=3\n",
    "test_df.loc[test_df['Foundation']=='Stone','Foundation']=4\n",
    "test_df.loc[test_df['Foundation']=='PConc','Foundation']=5"
   ]
  },
  {
   "cell_type": "code",
   "execution_count": 199,
   "metadata": {},
   "outputs": [],
   "source": [
    "train_df['Foundation']=train_df['Foundation'].astype('int64')\n",
    "test_df['Foundation']=test_df['Foundation'].astype('int64')"
   ]
  },
  {
   "cell_type": "code",
   "execution_count": 202,
   "metadata": {},
   "outputs": [],
   "source": [
    "train_df.drop('RoofStyle',axis=1,inplace=True)\n",
    "test_df.drop('RoofStyle',axis=1,inplace=True)"
   ]
  },
  {
   "cell_type": "code",
   "execution_count": 203,
   "metadata": {},
   "outputs": [
    {
     "name": "stdout",
     "output_type": "stream",
     "text": [
      "<class 'pandas.core.frame.DataFrame'>\n",
      "RangeIndex: 1460 entries, 0 to 1459\n",
      "Data columns (total 23 columns):\n",
      " #   Column         Non-Null Count  Dtype\n",
      "---  ------         --------------  -----\n",
      " 0   OverallCond    1460 non-null   int64\n",
      " 1   Basement       1460 non-null   int64\n",
      " 2   Garage         1460 non-null   int64\n",
      " 3   Fireplaces     1460 non-null   int64\n",
      " 4   Bathrooms      1460 non-null   int64\n",
      " 5   BedroomAbvGr   1460 non-null   int64\n",
      " 6   HeatingQC      1460 non-null   int64\n",
      " 7   CentralAir     1460 non-null   int64\n",
      " 8   Electrical     1460 non-null   int64\n",
      " 9   GrLivArea      1460 non-null   int64\n",
      " 10  Porch          1460 non-null   int64\n",
      " 11  PavedQual      1460 non-null   int64\n",
      " 12  LotQual        1460 non-null   int64\n",
      " 13  Pool           1460 non-null   int64\n",
      " 14  Foundation     1460 non-null   int64\n",
      " 15  MSZoning       1460 non-null   int64\n",
      " 16  MSSubClass     1460 non-null   int64\n",
      " 17  Condition1     1460 non-null   int64\n",
      " 18  Street         1460 non-null   int64\n",
      " 19  SaleType       1460 non-null   int64\n",
      " 20  SaleCondition  1460 non-null   int64\n",
      " 21  SalePrice      1460 non-null   int64\n",
      " 22  Id             1460 non-null   int64\n",
      "dtypes: int64(23)\n",
      "memory usage: 262.5 KB\n"
     ]
    }
   ],
   "source": [
    "train_df.info()"
   ]
  },
  {
   "cell_type": "code",
   "execution_count": 204,
   "metadata": {},
   "outputs": [],
   "source": [
    "train_df.drop('Id',axis=1,inplace=True)"
   ]
  },
  {
   "cell_type": "code",
   "execution_count": 206,
   "metadata": {},
   "outputs": [],
   "source": [
    "cid=test_df['Id']"
   ]
  },
  {
   "cell_type": "code",
   "execution_count": 207,
   "metadata": {},
   "outputs": [],
   "source": [
    "X_train=train_df.drop('SalePrice',axis=1)\n",
    "y_train=train_df['SalePrice']"
   ]
  },
  {
   "cell_type": "code",
   "execution_count": 210,
   "metadata": {},
   "outputs": [
    {
     "name": "stdout",
     "output_type": "stream",
     "text": [
      "<class 'pandas.core.frame.DataFrame'>\n",
      "RangeIndex: 1460 entries, 0 to 1459\n",
      "Data columns (total 21 columns):\n",
      " #   Column         Non-Null Count  Dtype\n",
      "---  ------         --------------  -----\n",
      " 0   OverallCond    1460 non-null   int64\n",
      " 1   Basement       1460 non-null   int64\n",
      " 2   Garage         1460 non-null   int64\n",
      " 3   Fireplaces     1460 non-null   int64\n",
      " 4   Bathrooms      1460 non-null   int64\n",
      " 5   BedroomAbvGr   1460 non-null   int64\n",
      " 6   HeatingQC      1460 non-null   int64\n",
      " 7   CentralAir     1460 non-null   int64\n",
      " 8   Electrical     1460 non-null   int64\n",
      " 9   GrLivArea      1460 non-null   int64\n",
      " 10  Porch          1460 non-null   int64\n",
      " 11  PavedQual      1460 non-null   int64\n",
      " 12  LotQual        1460 non-null   int64\n",
      " 13  Pool           1460 non-null   int64\n",
      " 14  Foundation     1460 non-null   int64\n",
      " 15  MSZoning       1460 non-null   int64\n",
      " 16  MSSubClass     1460 non-null   int64\n",
      " 17  Condition1     1460 non-null   int64\n",
      " 18  Street         1460 non-null   int64\n",
      " 19  SaleType       1460 non-null   int64\n",
      " 20  SaleCondition  1460 non-null   int64\n",
      "dtypes: int64(21)\n",
      "memory usage: 239.7 KB\n"
     ]
    }
   ],
   "source": [
    "X_train.info()"
   ]
  },
  {
   "cell_type": "code",
   "execution_count": 208,
   "metadata": {},
   "outputs": [],
   "source": [
    "X_test=test_df.drop('Id',axis=1)"
   ]
  },
  {
   "cell_type": "code",
   "execution_count": 211,
   "metadata": {},
   "outputs": [
    {
     "name": "stdout",
     "output_type": "stream",
     "text": [
      "<class 'pandas.core.frame.DataFrame'>\n",
      "RangeIndex: 1459 entries, 0 to 1458\n",
      "Data columns (total 21 columns):\n",
      " #   Column         Non-Null Count  Dtype  \n",
      "---  ------         --------------  -----  \n",
      " 0   OverallCond    1459 non-null   int64  \n",
      " 1   Basement       1459 non-null   float64\n",
      " 2   Garage         1459 non-null   float64\n",
      " 3   Fireplaces     1459 non-null   int64  \n",
      " 4   Bathrooms      1459 non-null   int64  \n",
      " 5   BedroomAbvGr   1459 non-null   int64  \n",
      " 6   HeatingQC      1459 non-null   int64  \n",
      " 7   CentralAir     1459 non-null   int64  \n",
      " 8   Electrical     1459 non-null   int64  \n",
      " 9   GrLivArea      1459 non-null   int64  \n",
      " 10  Porch          1459 non-null   int64  \n",
      " 11  PavedQual      1459 non-null   int64  \n",
      " 12  LotQual        1459 non-null   int64  \n",
      " 13  Pool           1459 non-null   int64  \n",
      " 14  Foundation     1459 non-null   int64  \n",
      " 15  MSZoning       1459 non-null   int64  \n",
      " 16  MSSubClass     1459 non-null   int64  \n",
      " 17  Condition1     1459 non-null   int64  \n",
      " 18  Street         1459 non-null   int64  \n",
      " 19  SaleType       1459 non-null   int64  \n",
      " 20  SaleCondition  1459 non-null   int64  \n",
      "dtypes: float64(2), int64(19)\n",
      "memory usage: 239.5 KB\n"
     ]
    }
   ],
   "source": [
    "X_test.info()"
   ]
  },
  {
   "cell_type": "code",
   "execution_count": 212,
   "metadata": {},
   "outputs": [],
   "source": [
    "from sklearn.ensemble import RandomForestRegressor"
   ]
  },
  {
   "cell_type": "code",
   "execution_count": 213,
   "metadata": {},
   "outputs": [],
   "source": [
    "rfreg=RandomForestRegressor()"
   ]
  },
  {
   "cell_type": "code",
   "execution_count": 214,
   "metadata": {},
   "outputs": [
    {
     "data": {
      "text/plain": [
       "RandomForestRegressor(bootstrap=True, ccp_alpha=0.0, criterion='mse',\n",
       "                      max_depth=None, max_features='auto', max_leaf_nodes=None,\n",
       "                      max_samples=None, min_impurity_decrease=0.0,\n",
       "                      min_impurity_split=None, min_samples_leaf=1,\n",
       "                      min_samples_split=2, min_weight_fraction_leaf=0.0,\n",
       "                      n_estimators=100, n_jobs=None, oob_score=False,\n",
       "                      random_state=None, verbose=0, warm_start=False)"
      ]
     },
     "execution_count": 214,
     "metadata": {},
     "output_type": "execute_result"
    }
   ],
   "source": [
    "rfreg.fit(X_train,y_train)"
   ]
  },
  {
   "cell_type": "code",
   "execution_count": 215,
   "metadata": {},
   "outputs": [
    {
     "data": {
      "text/plain": [
       "0.9735820895594317"
      ]
     },
     "execution_count": 215,
     "metadata": {},
     "output_type": "execute_result"
    }
   ],
   "source": [
    "rfreg.score(X_train,y_train)"
   ]
  },
  {
   "cell_type": "code",
   "execution_count": 216,
   "metadata": {},
   "outputs": [],
   "source": [
    "rfreg_pred=rfreg.predict(X_test)"
   ]
  },
  {
   "cell_type": "code",
   "execution_count": 217,
   "metadata": {},
   "outputs": [],
   "source": [
    "data={'Id':cid,'SalePrice':rfreg_pred}"
   ]
  },
  {
   "cell_type": "code",
   "execution_count": 218,
   "metadata": {},
   "outputs": [],
   "source": [
    "df_final=pd.DataFrame(data)"
   ]
  },
  {
   "cell_type": "code",
   "execution_count": 219,
   "metadata": {},
   "outputs": [],
   "source": [
    "df_final.to_csv('D:\\ANALYTICS\\KAGGLE\\Housing Prices\\MySubmisison_05242020.csv')"
   ]
  },
  {
   "cell_type": "code",
   "execution_count": null,
   "metadata": {},
   "outputs": [],
   "source": []
  }
 ],
 "metadata": {
  "kernelspec": {
   "display_name": "Python 3",
   "language": "python",
   "name": "python3"
  },
  "language_info": {
   "codemirror_mode": {
    "name": "ipython",
    "version": 3
   },
   "file_extension": ".py",
   "mimetype": "text/x-python",
   "name": "python",
   "nbconvert_exporter": "python",
   "pygments_lexer": "ipython3",
   "version": "3.6.10"
  }
 },
 "nbformat": 4,
 "nbformat_minor": 4
}
